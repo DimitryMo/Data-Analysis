{
  "nbformat": 4,
  "nbformat_minor": 0,
  "metadata": {
    "kernelspec": {
      "display_name": "Python 3",
      "language": "python",
      "name": "python3"
    },
    "language_info": {
      "codemirror_mode": {
        "name": "ipython",
        "version": 3
      },
      "file_extension": ".py",
      "mimetype": "text/x-python",
      "name": "python",
      "nbconvert_exporter": "python",
      "pygments_lexer": "ipython3",
      "version": "3.7.7"
    },
    "colab": {
      "provenance": [],
      "collapsed_sections": [
        "Iqq4t-KqJD37"
      ]
    },
    "accelerator": "GPU",
    "widgets": {
      "application/vnd.jupyter.widget-state+json": {
        "269cadf98c544182bb170da1c17aebdc": {
          "model_module": "@jupyter-widgets/controls",
          "model_name": "HBoxModel",
          "state": {
            "_view_name": "HBoxView",
            "_dom_classes": [],
            "_model_name": "HBoxModel",
            "_view_module": "@jupyter-widgets/controls",
            "_model_module_version": "1.5.0",
            "_view_count": null,
            "_view_module_version": "1.5.0",
            "box_style": "",
            "layout": "IPY_MODEL_92c71d9625d44324a479603b759d070d",
            "_model_module": "@jupyter-widgets/controls",
            "children": [
              "IPY_MODEL_adf5af0d62654befb11db299f656dcc6",
              "IPY_MODEL_ed65a8ae61cb46fe981df75fd33b9519"
            ]
          },
          "model_module_version": "1.5.0"
        },
        "92c71d9625d44324a479603b759d070d": {
          "model_module": "@jupyter-widgets/base",
          "model_name": "LayoutModel",
          "state": {
            "_view_name": "LayoutView",
            "grid_template_rows": null,
            "right": null,
            "justify_content": null,
            "_view_module": "@jupyter-widgets/base",
            "overflow": null,
            "_model_module_version": "1.2.0",
            "_view_count": null,
            "flex_flow": null,
            "width": null,
            "min_width": null,
            "border": null,
            "align_items": null,
            "bottom": null,
            "_model_module": "@jupyter-widgets/base",
            "top": null,
            "grid_column": null,
            "overflow_y": null,
            "overflow_x": null,
            "grid_auto_flow": null,
            "grid_area": null,
            "grid_template_columns": null,
            "flex": null,
            "_model_name": "LayoutModel",
            "justify_items": null,
            "grid_row": null,
            "max_height": null,
            "align_content": null,
            "visibility": null,
            "align_self": null,
            "height": null,
            "min_height": null,
            "padding": null,
            "grid_auto_rows": null,
            "grid_gap": null,
            "max_width": null,
            "order": null,
            "_view_module_version": "1.2.0",
            "grid_template_areas": null,
            "object_position": null,
            "object_fit": null,
            "grid_auto_columns": null,
            "margin": null,
            "display": null,
            "left": null
          },
          "model_module_version": "1.2.0"
        },
        "adf5af0d62654befb11db299f656dcc6": {
          "model_module": "@jupyter-widgets/controls",
          "model_name": "FloatProgressModel",
          "state": {
            "_view_name": "ProgressView",
            "style": "IPY_MODEL_3474f3122dea4ce689b0d5af20df5825",
            "_dom_classes": [],
            "description": "",
            "_model_name": "FloatProgressModel",
            "bar_style": "info",
            "max": 1,
            "_view_module": "@jupyter-widgets/controls",
            "_model_module_version": "1.5.0",
            "value": 1,
            "_view_count": null,
            "_view_module_version": "1.5.0",
            "orientation": "horizontal",
            "min": 0,
            "description_tooltip": null,
            "_model_module": "@jupyter-widgets/controls",
            "layout": "IPY_MODEL_84ff15299c1f4f73a2ee4c05ed851b5e"
          },
          "model_module_version": "1.5.0"
        },
        "ed65a8ae61cb46fe981df75fd33b9519": {
          "model_module": "@jupyter-widgets/controls",
          "model_name": "HTMLModel",
          "state": {
            "_view_name": "HTMLView",
            "style": "IPY_MODEL_9126dcf28da346d0b42e9940d0d8e0b8",
            "_dom_classes": [],
            "description": "",
            "_model_name": "HTMLModel",
            "placeholder": "​",
            "_view_module": "@jupyter-widgets/controls",
            "_model_module_version": "1.5.0",
            "value": " 26427392/? [00:20&lt;00:00, 6939640.68it/s]",
            "_view_count": null,
            "_view_module_version": "1.5.0",
            "description_tooltip": null,
            "_model_module": "@jupyter-widgets/controls",
            "layout": "IPY_MODEL_d1d8fe58468c42659a9125692af8739e"
          },
          "model_module_version": "1.5.0"
        },
        "3474f3122dea4ce689b0d5af20df5825": {
          "model_module": "@jupyter-widgets/controls",
          "model_name": "ProgressStyleModel",
          "state": {
            "_view_name": "StyleView",
            "_model_name": "ProgressStyleModel",
            "description_width": "initial",
            "_view_module": "@jupyter-widgets/base",
            "_model_module_version": "1.5.0",
            "_view_count": null,
            "_view_module_version": "1.2.0",
            "bar_color": null,
            "_model_module": "@jupyter-widgets/controls"
          },
          "model_module_version": "1.5.0"
        },
        "84ff15299c1f4f73a2ee4c05ed851b5e": {
          "model_module": "@jupyter-widgets/base",
          "model_name": "LayoutModel",
          "state": {
            "_view_name": "LayoutView",
            "grid_template_rows": null,
            "right": null,
            "justify_content": null,
            "_view_module": "@jupyter-widgets/base",
            "overflow": null,
            "_model_module_version": "1.2.0",
            "_view_count": null,
            "flex_flow": null,
            "width": null,
            "min_width": null,
            "border": null,
            "align_items": null,
            "bottom": null,
            "_model_module": "@jupyter-widgets/base",
            "top": null,
            "grid_column": null,
            "overflow_y": null,
            "overflow_x": null,
            "grid_auto_flow": null,
            "grid_area": null,
            "grid_template_columns": null,
            "flex": null,
            "_model_name": "LayoutModel",
            "justify_items": null,
            "grid_row": null,
            "max_height": null,
            "align_content": null,
            "visibility": null,
            "align_self": null,
            "height": null,
            "min_height": null,
            "padding": null,
            "grid_auto_rows": null,
            "grid_gap": null,
            "max_width": null,
            "order": null,
            "_view_module_version": "1.2.0",
            "grid_template_areas": null,
            "object_position": null,
            "object_fit": null,
            "grid_auto_columns": null,
            "margin": null,
            "display": null,
            "left": null
          },
          "model_module_version": "1.2.0"
        },
        "9126dcf28da346d0b42e9940d0d8e0b8": {
          "model_module": "@jupyter-widgets/controls",
          "model_name": "DescriptionStyleModel",
          "state": {
            "_view_name": "StyleView",
            "_model_name": "DescriptionStyleModel",
            "description_width": "",
            "_view_module": "@jupyter-widgets/base",
            "_model_module_version": "1.5.0",
            "_view_count": null,
            "_view_module_version": "1.2.0",
            "_model_module": "@jupyter-widgets/controls"
          },
          "model_module_version": "1.5.0"
        },
        "d1d8fe58468c42659a9125692af8739e": {
          "model_module": "@jupyter-widgets/base",
          "model_name": "LayoutModel",
          "state": {
            "_view_name": "LayoutView",
            "grid_template_rows": null,
            "right": null,
            "justify_content": null,
            "_view_module": "@jupyter-widgets/base",
            "overflow": null,
            "_model_module_version": "1.2.0",
            "_view_count": null,
            "flex_flow": null,
            "width": null,
            "min_width": null,
            "border": null,
            "align_items": null,
            "bottom": null,
            "_model_module": "@jupyter-widgets/base",
            "top": null,
            "grid_column": null,
            "overflow_y": null,
            "overflow_x": null,
            "grid_auto_flow": null,
            "grid_area": null,
            "grid_template_columns": null,
            "flex": null,
            "_model_name": "LayoutModel",
            "justify_items": null,
            "grid_row": null,
            "max_height": null,
            "align_content": null,
            "visibility": null,
            "align_self": null,
            "height": null,
            "min_height": null,
            "padding": null,
            "grid_auto_rows": null,
            "grid_gap": null,
            "max_width": null,
            "order": null,
            "_view_module_version": "1.2.0",
            "grid_template_areas": null,
            "object_position": null,
            "object_fit": null,
            "grid_auto_columns": null,
            "margin": null,
            "display": null,
            "left": null
          },
          "model_module_version": "1.2.0"
        },
        "4b457d4c691545e98d663b23b3058313": {
          "model_module": "@jupyter-widgets/controls",
          "model_name": "HBoxModel",
          "state": {
            "_view_name": "HBoxView",
            "_dom_classes": [],
            "_model_name": "HBoxModel",
            "_view_module": "@jupyter-widgets/controls",
            "_model_module_version": "1.5.0",
            "_view_count": null,
            "_view_module_version": "1.5.0",
            "box_style": "",
            "layout": "IPY_MODEL_d7e1c62992c647ba8809d98b7fbf8683",
            "_model_module": "@jupyter-widgets/controls",
            "children": [
              "IPY_MODEL_7e4788801f594ceeb75b8c8fde505534",
              "IPY_MODEL_642149c0e31846239094fb9f32227da4"
            ]
          },
          "model_module_version": "1.5.0"
        },
        "d7e1c62992c647ba8809d98b7fbf8683": {
          "model_module": "@jupyter-widgets/base",
          "model_name": "LayoutModel",
          "state": {
            "_view_name": "LayoutView",
            "grid_template_rows": null,
            "right": null,
            "justify_content": null,
            "_view_module": "@jupyter-widgets/base",
            "overflow": null,
            "_model_module_version": "1.2.0",
            "_view_count": null,
            "flex_flow": null,
            "width": null,
            "min_width": null,
            "border": null,
            "align_items": null,
            "bottom": null,
            "_model_module": "@jupyter-widgets/base",
            "top": null,
            "grid_column": null,
            "overflow_y": null,
            "overflow_x": null,
            "grid_auto_flow": null,
            "grid_area": null,
            "grid_template_columns": null,
            "flex": null,
            "_model_name": "LayoutModel",
            "justify_items": null,
            "grid_row": null,
            "max_height": null,
            "align_content": null,
            "visibility": null,
            "align_self": null,
            "height": null,
            "min_height": null,
            "padding": null,
            "grid_auto_rows": null,
            "grid_gap": null,
            "max_width": null,
            "order": null,
            "_view_module_version": "1.2.0",
            "grid_template_areas": null,
            "object_position": null,
            "object_fit": null,
            "grid_auto_columns": null,
            "margin": null,
            "display": null,
            "left": null
          },
          "model_module_version": "1.2.0"
        },
        "7e4788801f594ceeb75b8c8fde505534": {
          "model_module": "@jupyter-widgets/controls",
          "model_name": "FloatProgressModel",
          "state": {
            "_view_name": "ProgressView",
            "style": "IPY_MODEL_af7420423ec14787a83d122ead1e4e65",
            "_dom_classes": [],
            "description": "",
            "_model_name": "FloatProgressModel",
            "bar_style": "success",
            "max": 1,
            "_view_module": "@jupyter-widgets/controls",
            "_model_module_version": "1.5.0",
            "value": 1,
            "_view_count": null,
            "_view_module_version": "1.5.0",
            "orientation": "horizontal",
            "min": 0,
            "description_tooltip": null,
            "_model_module": "@jupyter-widgets/controls",
            "layout": "IPY_MODEL_d036321d92c548328dbc7687cd939092"
          },
          "model_module_version": "1.5.0"
        },
        "642149c0e31846239094fb9f32227da4": {
          "model_module": "@jupyter-widgets/controls",
          "model_name": "HTMLModel",
          "state": {
            "_view_name": "HTMLView",
            "style": "IPY_MODEL_f9855661b0df42c8bb6490a59584d993",
            "_dom_classes": [],
            "description": "",
            "_model_name": "HTMLModel",
            "placeholder": "​",
            "_view_module": "@jupyter-widgets/controls",
            "_model_module_version": "1.5.0",
            "value": " 32768/? [00:00&lt;00:00, 67571.01it/s]",
            "_view_count": null,
            "_view_module_version": "1.5.0",
            "description_tooltip": null,
            "_model_module": "@jupyter-widgets/controls",
            "layout": "IPY_MODEL_a796fef5ebb645d7bcd929a7073696a8"
          },
          "model_module_version": "1.5.0"
        },
        "af7420423ec14787a83d122ead1e4e65": {
          "model_module": "@jupyter-widgets/controls",
          "model_name": "ProgressStyleModel",
          "state": {
            "_view_name": "StyleView",
            "_model_name": "ProgressStyleModel",
            "description_width": "initial",
            "_view_module": "@jupyter-widgets/base",
            "_model_module_version": "1.5.0",
            "_view_count": null,
            "_view_module_version": "1.2.0",
            "bar_color": null,
            "_model_module": "@jupyter-widgets/controls"
          },
          "model_module_version": "1.5.0"
        },
        "d036321d92c548328dbc7687cd939092": {
          "model_module": "@jupyter-widgets/base",
          "model_name": "LayoutModel",
          "state": {
            "_view_name": "LayoutView",
            "grid_template_rows": null,
            "right": null,
            "justify_content": null,
            "_view_module": "@jupyter-widgets/base",
            "overflow": null,
            "_model_module_version": "1.2.0",
            "_view_count": null,
            "flex_flow": null,
            "width": null,
            "min_width": null,
            "border": null,
            "align_items": null,
            "bottom": null,
            "_model_module": "@jupyter-widgets/base",
            "top": null,
            "grid_column": null,
            "overflow_y": null,
            "overflow_x": null,
            "grid_auto_flow": null,
            "grid_area": null,
            "grid_template_columns": null,
            "flex": null,
            "_model_name": "LayoutModel",
            "justify_items": null,
            "grid_row": null,
            "max_height": null,
            "align_content": null,
            "visibility": null,
            "align_self": null,
            "height": null,
            "min_height": null,
            "padding": null,
            "grid_auto_rows": null,
            "grid_gap": null,
            "max_width": null,
            "order": null,
            "_view_module_version": "1.2.0",
            "grid_template_areas": null,
            "object_position": null,
            "object_fit": null,
            "grid_auto_columns": null,
            "margin": null,
            "display": null,
            "left": null
          },
          "model_module_version": "1.2.0"
        },
        "f9855661b0df42c8bb6490a59584d993": {
          "model_module": "@jupyter-widgets/controls",
          "model_name": "DescriptionStyleModel",
          "state": {
            "_view_name": "StyleView",
            "_model_name": "DescriptionStyleModel",
            "description_width": "",
            "_view_module": "@jupyter-widgets/base",
            "_model_module_version": "1.5.0",
            "_view_count": null,
            "_view_module_version": "1.2.0",
            "_model_module": "@jupyter-widgets/controls"
          },
          "model_module_version": "1.5.0"
        },
        "a796fef5ebb645d7bcd929a7073696a8": {
          "model_module": "@jupyter-widgets/base",
          "model_name": "LayoutModel",
          "state": {
            "_view_name": "LayoutView",
            "grid_template_rows": null,
            "right": null,
            "justify_content": null,
            "_view_module": "@jupyter-widgets/base",
            "overflow": null,
            "_model_module_version": "1.2.0",
            "_view_count": null,
            "flex_flow": null,
            "width": null,
            "min_width": null,
            "border": null,
            "align_items": null,
            "bottom": null,
            "_model_module": "@jupyter-widgets/base",
            "top": null,
            "grid_column": null,
            "overflow_y": null,
            "overflow_x": null,
            "grid_auto_flow": null,
            "grid_area": null,
            "grid_template_columns": null,
            "flex": null,
            "_model_name": "LayoutModel",
            "justify_items": null,
            "grid_row": null,
            "max_height": null,
            "align_content": null,
            "visibility": null,
            "align_self": null,
            "height": null,
            "min_height": null,
            "padding": null,
            "grid_auto_rows": null,
            "grid_gap": null,
            "max_width": null,
            "order": null,
            "_view_module_version": "1.2.0",
            "grid_template_areas": null,
            "object_position": null,
            "object_fit": null,
            "grid_auto_columns": null,
            "margin": null,
            "display": null,
            "left": null
          },
          "model_module_version": "1.2.0"
        },
        "69c0dce3ece1485bb59c9b988b7f556c": {
          "model_module": "@jupyter-widgets/controls",
          "model_name": "HBoxModel",
          "state": {
            "_view_name": "HBoxView",
            "_dom_classes": [],
            "_model_name": "HBoxModel",
            "_view_module": "@jupyter-widgets/controls",
            "_model_module_version": "1.5.0",
            "_view_count": null,
            "_view_module_version": "1.5.0",
            "box_style": "",
            "layout": "IPY_MODEL_83ac64cae29846d79dd21ffa73d7c0d6",
            "_model_module": "@jupyter-widgets/controls",
            "children": [
              "IPY_MODEL_487188e5d1414fa193f152d8e9e7af50",
              "IPY_MODEL_d5b39af77aab446d8820b41891c2192b"
            ]
          },
          "model_module_version": "1.5.0"
        },
        "83ac64cae29846d79dd21ffa73d7c0d6": {
          "model_module": "@jupyter-widgets/base",
          "model_name": "LayoutModel",
          "state": {
            "_view_name": "LayoutView",
            "grid_template_rows": null,
            "right": null,
            "justify_content": null,
            "_view_module": "@jupyter-widgets/base",
            "overflow": null,
            "_model_module_version": "1.2.0",
            "_view_count": null,
            "flex_flow": null,
            "width": null,
            "min_width": null,
            "border": null,
            "align_items": null,
            "bottom": null,
            "_model_module": "@jupyter-widgets/base",
            "top": null,
            "grid_column": null,
            "overflow_y": null,
            "overflow_x": null,
            "grid_auto_flow": null,
            "grid_area": null,
            "grid_template_columns": null,
            "flex": null,
            "_model_name": "LayoutModel",
            "justify_items": null,
            "grid_row": null,
            "max_height": null,
            "align_content": null,
            "visibility": null,
            "align_self": null,
            "height": null,
            "min_height": null,
            "padding": null,
            "grid_auto_rows": null,
            "grid_gap": null,
            "max_width": null,
            "order": null,
            "_view_module_version": "1.2.0",
            "grid_template_areas": null,
            "object_position": null,
            "object_fit": null,
            "grid_auto_columns": null,
            "margin": null,
            "display": null,
            "left": null
          },
          "model_module_version": "1.2.0"
        },
        "487188e5d1414fa193f152d8e9e7af50": {
          "model_module": "@jupyter-widgets/controls",
          "model_name": "FloatProgressModel",
          "state": {
            "_view_name": "ProgressView",
            "style": "IPY_MODEL_f4d1f0859f1e4352a99469546ea689b7",
            "_dom_classes": [],
            "description": "",
            "_model_name": "FloatProgressModel",
            "bar_style": "info",
            "max": 1,
            "_view_module": "@jupyter-widgets/controls",
            "_model_module_version": "1.5.0",
            "value": 1,
            "_view_count": null,
            "_view_module_version": "1.5.0",
            "orientation": "horizontal",
            "min": 0,
            "description_tooltip": null,
            "_model_module": "@jupyter-widgets/controls",
            "layout": "IPY_MODEL_20f2f8de03ad4b44bd93637b733fc84f"
          },
          "model_module_version": "1.5.0"
        },
        "d5b39af77aab446d8820b41891c2192b": {
          "model_module": "@jupyter-widgets/controls",
          "model_name": "HTMLModel",
          "state": {
            "_view_name": "HTMLView",
            "style": "IPY_MODEL_f0461123d3584071a998a4b45eb33b4f",
            "_dom_classes": [],
            "description": "",
            "_model_name": "HTMLModel",
            "placeholder": "​",
            "_view_module": "@jupyter-widgets/controls",
            "_model_module_version": "1.5.0",
            "value": " 4423680/? [00:16&lt;00:00, 796882.08it/s]",
            "_view_count": null,
            "_view_module_version": "1.5.0",
            "description_tooltip": null,
            "_model_module": "@jupyter-widgets/controls",
            "layout": "IPY_MODEL_03913856fcfc4cf1b48c832c7cb1bb11"
          },
          "model_module_version": "1.5.0"
        },
        "f4d1f0859f1e4352a99469546ea689b7": {
          "model_module": "@jupyter-widgets/controls",
          "model_name": "ProgressStyleModel",
          "state": {
            "_view_name": "StyleView",
            "_model_name": "ProgressStyleModel",
            "description_width": "initial",
            "_view_module": "@jupyter-widgets/base",
            "_model_module_version": "1.5.0",
            "_view_count": null,
            "_view_module_version": "1.2.0",
            "bar_color": null,
            "_model_module": "@jupyter-widgets/controls"
          },
          "model_module_version": "1.5.0"
        },
        "20f2f8de03ad4b44bd93637b733fc84f": {
          "model_module": "@jupyter-widgets/base",
          "model_name": "LayoutModel",
          "state": {
            "_view_name": "LayoutView",
            "grid_template_rows": null,
            "right": null,
            "justify_content": null,
            "_view_module": "@jupyter-widgets/base",
            "overflow": null,
            "_model_module_version": "1.2.0",
            "_view_count": null,
            "flex_flow": null,
            "width": null,
            "min_width": null,
            "border": null,
            "align_items": null,
            "bottom": null,
            "_model_module": "@jupyter-widgets/base",
            "top": null,
            "grid_column": null,
            "overflow_y": null,
            "overflow_x": null,
            "grid_auto_flow": null,
            "grid_area": null,
            "grid_template_columns": null,
            "flex": null,
            "_model_name": "LayoutModel",
            "justify_items": null,
            "grid_row": null,
            "max_height": null,
            "align_content": null,
            "visibility": null,
            "align_self": null,
            "height": null,
            "min_height": null,
            "padding": null,
            "grid_auto_rows": null,
            "grid_gap": null,
            "max_width": null,
            "order": null,
            "_view_module_version": "1.2.0",
            "grid_template_areas": null,
            "object_position": null,
            "object_fit": null,
            "grid_auto_columns": null,
            "margin": null,
            "display": null,
            "left": null
          },
          "model_module_version": "1.2.0"
        },
        "f0461123d3584071a998a4b45eb33b4f": {
          "model_module": "@jupyter-widgets/controls",
          "model_name": "DescriptionStyleModel",
          "state": {
            "_view_name": "StyleView",
            "_model_name": "DescriptionStyleModel",
            "description_width": "",
            "_view_module": "@jupyter-widgets/base",
            "_model_module_version": "1.5.0",
            "_view_count": null,
            "_view_module_version": "1.2.0",
            "_model_module": "@jupyter-widgets/controls"
          },
          "model_module_version": "1.5.0"
        },
        "03913856fcfc4cf1b48c832c7cb1bb11": {
          "model_module": "@jupyter-widgets/base",
          "model_name": "LayoutModel",
          "state": {
            "_view_name": "LayoutView",
            "grid_template_rows": null,
            "right": null,
            "justify_content": null,
            "_view_module": "@jupyter-widgets/base",
            "overflow": null,
            "_model_module_version": "1.2.0",
            "_view_count": null,
            "flex_flow": null,
            "width": null,
            "min_width": null,
            "border": null,
            "align_items": null,
            "bottom": null,
            "_model_module": "@jupyter-widgets/base",
            "top": null,
            "grid_column": null,
            "overflow_y": null,
            "overflow_x": null,
            "grid_auto_flow": null,
            "grid_area": null,
            "grid_template_columns": null,
            "flex": null,
            "_model_name": "LayoutModel",
            "justify_items": null,
            "grid_row": null,
            "max_height": null,
            "align_content": null,
            "visibility": null,
            "align_self": null,
            "height": null,
            "min_height": null,
            "padding": null,
            "grid_auto_rows": null,
            "grid_gap": null,
            "max_width": null,
            "order": null,
            "_view_module_version": "1.2.0",
            "grid_template_areas": null,
            "object_position": null,
            "object_fit": null,
            "grid_auto_columns": null,
            "margin": null,
            "display": null,
            "left": null
          },
          "model_module_version": "1.2.0"
        },
        "9ac29d8d1abd4074b936f223644e4824": {
          "model_module": "@jupyter-widgets/controls",
          "model_name": "HBoxModel",
          "state": {
            "_view_name": "HBoxView",
            "_dom_classes": [],
            "_model_name": "HBoxModel",
            "_view_module": "@jupyter-widgets/controls",
            "_model_module_version": "1.5.0",
            "_view_count": null,
            "_view_module_version": "1.5.0",
            "box_style": "",
            "layout": "IPY_MODEL_66d9043df2c34da3989284cdddf9e78b",
            "_model_module": "@jupyter-widgets/controls",
            "children": [
              "IPY_MODEL_2509b7d5613548c9b67df4a962a427a0",
              "IPY_MODEL_d9017b5e7503417e9c9fedad2cba7852"
            ]
          },
          "model_module_version": "1.5.0"
        },
        "66d9043df2c34da3989284cdddf9e78b": {
          "model_module": "@jupyter-widgets/base",
          "model_name": "LayoutModel",
          "state": {
            "_view_name": "LayoutView",
            "grid_template_rows": null,
            "right": null,
            "justify_content": null,
            "_view_module": "@jupyter-widgets/base",
            "overflow": null,
            "_model_module_version": "1.2.0",
            "_view_count": null,
            "flex_flow": null,
            "width": null,
            "min_width": null,
            "border": null,
            "align_items": null,
            "bottom": null,
            "_model_module": "@jupyter-widgets/base",
            "top": null,
            "grid_column": null,
            "overflow_y": null,
            "overflow_x": null,
            "grid_auto_flow": null,
            "grid_area": null,
            "grid_template_columns": null,
            "flex": null,
            "_model_name": "LayoutModel",
            "justify_items": null,
            "grid_row": null,
            "max_height": null,
            "align_content": null,
            "visibility": null,
            "align_self": null,
            "height": null,
            "min_height": null,
            "padding": null,
            "grid_auto_rows": null,
            "grid_gap": null,
            "max_width": null,
            "order": null,
            "_view_module_version": "1.2.0",
            "grid_template_areas": null,
            "object_position": null,
            "object_fit": null,
            "grid_auto_columns": null,
            "margin": null,
            "display": null,
            "left": null
          },
          "model_module_version": "1.2.0"
        },
        "2509b7d5613548c9b67df4a962a427a0": {
          "model_module": "@jupyter-widgets/controls",
          "model_name": "FloatProgressModel",
          "state": {
            "_view_name": "ProgressView",
            "style": "IPY_MODEL_44d095aa97724361a81db6b3fba057ff",
            "_dom_classes": [],
            "description": "",
            "_model_name": "FloatProgressModel",
            "bar_style": "success",
            "max": 1,
            "_view_module": "@jupyter-widgets/controls",
            "_model_module_version": "1.5.0",
            "value": 1,
            "_view_count": null,
            "_view_module_version": "1.5.0",
            "orientation": "horizontal",
            "min": 0,
            "description_tooltip": null,
            "_model_module": "@jupyter-widgets/controls",
            "layout": "IPY_MODEL_d682e6760b5e4d24ba996251673adc01"
          },
          "model_module_version": "1.5.0"
        },
        "d9017b5e7503417e9c9fedad2cba7852": {
          "model_module": "@jupyter-widgets/controls",
          "model_name": "HTMLModel",
          "state": {
            "_view_name": "HTMLView",
            "style": "IPY_MODEL_6f6e6173b18e40d0b8efd1c3c2cb92d1",
            "_dom_classes": [],
            "description": "",
            "_model_name": "HTMLModel",
            "placeholder": "​",
            "_view_module": "@jupyter-widgets/controls",
            "_model_module_version": "1.5.0",
            "value": " 8192/? [00:03&lt;00:00, 2354.45it/s]",
            "_view_count": null,
            "_view_module_version": "1.5.0",
            "description_tooltip": null,
            "_model_module": "@jupyter-widgets/controls",
            "layout": "IPY_MODEL_41c6896710ed48eda950005e975c276c"
          },
          "model_module_version": "1.5.0"
        },
        "44d095aa97724361a81db6b3fba057ff": {
          "model_module": "@jupyter-widgets/controls",
          "model_name": "ProgressStyleModel",
          "state": {
            "_view_name": "StyleView",
            "_model_name": "ProgressStyleModel",
            "description_width": "initial",
            "_view_module": "@jupyter-widgets/base",
            "_model_module_version": "1.5.0",
            "_view_count": null,
            "_view_module_version": "1.2.0",
            "bar_color": null,
            "_model_module": "@jupyter-widgets/controls"
          },
          "model_module_version": "1.5.0"
        },
        "d682e6760b5e4d24ba996251673adc01": {
          "model_module": "@jupyter-widgets/base",
          "model_name": "LayoutModel",
          "state": {
            "_view_name": "LayoutView",
            "grid_template_rows": null,
            "right": null,
            "justify_content": null,
            "_view_module": "@jupyter-widgets/base",
            "overflow": null,
            "_model_module_version": "1.2.0",
            "_view_count": null,
            "flex_flow": null,
            "width": null,
            "min_width": null,
            "border": null,
            "align_items": null,
            "bottom": null,
            "_model_module": "@jupyter-widgets/base",
            "top": null,
            "grid_column": null,
            "overflow_y": null,
            "overflow_x": null,
            "grid_auto_flow": null,
            "grid_area": null,
            "grid_template_columns": null,
            "flex": null,
            "_model_name": "LayoutModel",
            "justify_items": null,
            "grid_row": null,
            "max_height": null,
            "align_content": null,
            "visibility": null,
            "align_self": null,
            "height": null,
            "min_height": null,
            "padding": null,
            "grid_auto_rows": null,
            "grid_gap": null,
            "max_width": null,
            "order": null,
            "_view_module_version": "1.2.0",
            "grid_template_areas": null,
            "object_position": null,
            "object_fit": null,
            "grid_auto_columns": null,
            "margin": null,
            "display": null,
            "left": null
          },
          "model_module_version": "1.2.0"
        },
        "6f6e6173b18e40d0b8efd1c3c2cb92d1": {
          "model_module": "@jupyter-widgets/controls",
          "model_name": "DescriptionStyleModel",
          "state": {
            "_view_name": "StyleView",
            "_model_name": "DescriptionStyleModel",
            "description_width": "",
            "_view_module": "@jupyter-widgets/base",
            "_model_module_version": "1.5.0",
            "_view_count": null,
            "_view_module_version": "1.2.0",
            "_model_module": "@jupyter-widgets/controls"
          },
          "model_module_version": "1.5.0"
        },
        "41c6896710ed48eda950005e975c276c": {
          "model_module": "@jupyter-widgets/base",
          "model_name": "LayoutModel",
          "state": {
            "_view_name": "LayoutView",
            "grid_template_rows": null,
            "right": null,
            "justify_content": null,
            "_view_module": "@jupyter-widgets/base",
            "overflow": null,
            "_model_module_version": "1.2.0",
            "_view_count": null,
            "flex_flow": null,
            "width": null,
            "min_width": null,
            "border": null,
            "align_items": null,
            "bottom": null,
            "_model_module": "@jupyter-widgets/base",
            "top": null,
            "grid_column": null,
            "overflow_y": null,
            "overflow_x": null,
            "grid_auto_flow": null,
            "grid_area": null,
            "grid_template_columns": null,
            "flex": null,
            "_model_name": "LayoutModel",
            "justify_items": null,
            "grid_row": null,
            "max_height": null,
            "align_content": null,
            "visibility": null,
            "align_self": null,
            "height": null,
            "min_height": null,
            "padding": null,
            "grid_auto_rows": null,
            "grid_gap": null,
            "max_width": null,
            "order": null,
            "_view_module_version": "1.2.0",
            "grid_template_areas": null,
            "object_position": null,
            "object_fit": null,
            "grid_auto_columns": null,
            "margin": null,
            "display": null,
            "left": null
          },
          "model_module_version": "1.2.0"
        }
      }
    }
  },
  "cells": [
    {
      "cell_type": "markdown",
      "metadata": {
        "id": "YZlO1u6wJD3p"
      },
      "source": [
        "## Домашнее задание №1\n",
        "\n",
        "В этом домашнем задании вы познакомитесь с pytorch сами и сможете попрактиковаться в его применении. \n",
        "\n",
        "#### План:\n",
        "\n",
        "1. Простейшие операции в pytorch\n",
        "2. Пишем Adam и применяем его к ручной модели\n",
        "3. Обучаем свою первую нейросеть"
      ]
    },
    {
      "cell_type": "code",
      "metadata": {
        "id": "88RCDFC-JD3t"
      },
      "source": [
        "import os\n",
        "import sys\n",
        "import math\n",
        "import torch\n",
        "import torchvision\n",
        "import torchvision.transforms as transforms\n",
        "import torch.optim as optim\n",
        "import random\n",
        "import numpy as np\n",
        "from tqdm.notebook import tqdm\n",
        "import torch.nn.functional as F\n",
        "import torch.nn as nn\n",
        "from torch.utils.data import DataLoader\n",
        "import matplotlib.pyplot as plt\n",
        "from IPython.display import clear_output\n",
        "from tqdm.notebook import tqdm"
      ],
      "execution_count": null,
      "outputs": []
    },
    {
      "cell_type": "markdown",
      "metadata": {
        "id": "Iqq4t-KqJD37"
      },
      "source": [
        "### Простейшие операции на pytorch (2 балла)"
      ]
    },
    {
      "cell_type": "markdown",
      "metadata": {
        "id": "WrgRRlSRJD39"
      },
      "source": [
        "**Task**: Cоздайте два случайных тензора (двумерных, не квадратных):"
      ]
    },
    {
      "cell_type": "code",
      "metadata": {
        "id": "NSHYWB-TJD3_"
      },
      "source": [
        "x = torch.randn(3, 2)\n",
        "y = torch.randn(2, 3)"
      ],
      "execution_count": null,
      "outputs": []
    },
    {
      "cell_type": "markdown",
      "metadata": {
        "id": "Sxz0tEZJJD4K"
      },
      "source": [
        "**Task**: Умножьте их друг на друга, результат запишите в третий тензор без использования оператора `=`:"
      ]
    },
    {
      "cell_type": "code",
      "metadata": {
        "id": "C1ODNLINJD4M",
        "outputId": "d461d828-288e-46c3-8708-70fcee47be9b",
        "colab": {
          "base_uri": "https://localhost:8080/"
        }
      },
      "source": [
        "z = torch.empty(1)\n",
        "torch.matmul(x, y, out=z)"
      ],
      "execution_count": null,
      "outputs": [
        {
          "output_type": "execute_result",
          "data": {
            "text/plain": [
              "tensor([[-0.5277, -1.1989, -0.0245],\n",
              "        [-2.7219, -4.2552,  0.1600],\n",
              "        [-0.0419,  1.0800,  0.1726]])"
            ]
          },
          "metadata": {
            "tags": []
          },
          "execution_count": 3
        }
      ]
    },
    {
      "cell_type": "markdown",
      "metadata": {
        "id": "ULNvwGJyJD4W"
      },
      "source": [
        "**Task**: Реализуйте ReLU использую только pytorch, примените его к тензору `x` (запрещено использование модулей torch.nn и его подмодулей, а также функции torch.relu)"
      ]
    },
    {
      "cell_type": "code",
      "metadata": {
        "id": "2FXg1P-xJD4Y"
      },
      "source": [
        "def relu_forward(x):\n",
        "    \n",
        "    return torch.where(x>0, x, torch.zeros_like(x))\n",
        "\n",
        "assert torch.all(F.relu(x) == relu_forward(x))"
      ],
      "execution_count": null,
      "outputs": []
    },
    {
      "cell_type": "markdown",
      "metadata": {
        "id": "Ih2ZwnQhJD4s"
      },
      "source": [
        "**Task**: Сделайте тоже самое c ELU (запрещено использование модулей torch.nn и его подмодулей):"
      ]
    },
    {
      "cell_type": "code",
      "metadata": {
        "id": "gtn5qhroJD4t"
      },
      "source": [
        "def elu_forward(x):\n",
        "    \n",
        "    return torch.where(x>0, x, torch.exp(x)-1)\n",
        "  \n",
        "\n",
        "assert torch.all(F.elu(x) == elu_forward(x))"
      ],
      "execution_count": null,
      "outputs": []
    },
    {
      "cell_type": "markdown",
      "metadata": {
        "id": "vpc2LIZSJD41"
      },
      "source": [
        "**Task**: LeakyReLU (запрещено использование модулей torch.nn и его подмодулей):"
      ]
    },
    {
      "cell_type": "code",
      "metadata": {
        "id": "ZQekRIIDJD42"
      },
      "source": [
        "def lrelu_forward(x, alpha):\n",
        "\n",
        "    return torch.where(x>0, x, alpha*x)\n",
        "\n",
        "assert torch.all(F.leaky_relu(x, 0.01) == lrelu_forward(x, 0.01))"
      ],
      "execution_count": null,
      "outputs": []
    },
    {
      "cell_type": "markdown",
      "metadata": {
        "id": "P4oaLplXJD47"
      },
      "source": [
        "**Task**: Теперь перейдем к немного более современным функциям активаций, например Mish, напомним как она выглядит:\n",
        "\n",
        "$$x * tanh(ln(1+e^x))$$\n",
        "\n",
        "(запрещено использование модулей torch.nn и его подмодулей)"
      ]
    },
    {
      "cell_type": "code",
      "metadata": {
        "id": "Wgl0K8udJD48"
      },
      "source": [
        "def mish(x):\n",
        "    return x * torch.tanh(torch.log(1 + torch.exp(x)))"
      ],
      "execution_count": null,
      "outputs": []
    },
    {
      "cell_type": "code",
      "metadata": {
        "id": "A2_TL2UwJD5A"
      },
      "source": [
        "assert torch.allclose(\n",
        "    mish(torch.tensor([1, 1, 1], dtype=torch.float32)), \n",
        "    torch.tensor([0.8651, 0.8651, 0.8651]), \n",
        "    atol=1e-4\n",
        ")\n",
        "\n",
        "assert torch.allclose(\n",
        "    mish(torch.tensor([0.6376, 0.4021, 0.6656, 0.3726], dtype=torch.float64)), \n",
        "    torch.tensor([0.5014, 0.2908, 0.5280, 0.2663], dtype=torch.float64), \n",
        "    atol=1e-4\n",
        ")"
      ],
      "execution_count": null,
      "outputs": []
    },
    {
      "cell_type": "markdown",
      "metadata": {
        "id": "zX3MIB1KJD5E"
      },
      "source": [
        "**Task**: Теперь реализуем swish, напомним как она выглядит:\n",
        "\n",
        "$$x * \\sigma(x)$$\n",
        "\n",
        "(запрещено использование модулей torch.nn и его подмодулей)"
      ]
    },
    {
      "cell_type": "code",
      "metadata": {
        "id": "tIShK7xPJD5F"
      },
      "source": [
        "def swish(x):\n",
        "    return x * torch.sigmoid(x)"
      ],
      "execution_count": null,
      "outputs": []
    },
    {
      "cell_type": "code",
      "metadata": {
        "id": "IJ6iNCxlJD5J"
      },
      "source": [
        "assert torch.allclose(\n",
        "    swish(torch.tensor([1, 1, 1], dtype=torch.float32)), \n",
        "    torch.tensor([0.7311, 0.7311, 0.7311]), \n",
        "    atol=1e-4\n",
        ")\n",
        "\n",
        "assert torch.allclose(\n",
        "    swish(torch.tensor([0.6376, 0.4021, 0.6656, 0.3726], dtype=torch.float64)), \n",
        "    torch.tensor([0.4171, 0.2409, 0.4396, 0.2206], dtype=torch.float64), \n",
        "    atol=1e-4\n",
        ")"
      ],
      "execution_count": null,
      "outputs": []
    },
    {
      "cell_type": "markdown",
      "metadata": {
        "id": "oPOpIcleJD5O"
      },
      "source": [
        "### Пишем Adam и применяем его к линейной регрессии (4 балла)\n",
        "\n",
        "\n",
        "В данной секции вам нужно сделать две вещи: \n",
        "\n",
        "1. Написать свой собственный оптимизатор подобно тому, который мы писали на семинаре\n",
        "2. Обучить логистическую регрессию побатчево на картинках из датасета \n",
        "\n",
        "\n",
        "#### Adam\n",
        "\n",
        "\n",
        "$$\n",
        "\\begin{eqnarray}\n",
        "g &=& \\frac{1}{m}\\nabla_w \\sum_i L(f(x_{i};w), y_{i}) \\\\\n",
        "m &=& \\beta_1 m + (1 - \\beta_1) g \\\\\n",
        "v &=& \\beta_2 v + (1 - \\beta_2) diag(gg^{T}) \\\\\n",
        "\\hat{m} &=& \\frac{m}{1 - \\beta_1^{t}} \\\\\n",
        "\\hat{v} &=& \\frac{v}{1 - \\beta_2^{t}} \\\\\n",
        "w &=& w - \\frac{\\eta}{\\sqrt{\\hat{v} + \\epsilon}} \\odot \\hat{m}\n",
        "\\end{eqnarray}\n",
        "$$"
      ]
    },
    {
      "cell_type": "code",
      "metadata": {
        "id": "dqGipcqcJD5P"
      },
      "source": [
        "# абстрактный класс, не обращайте внимания\n",
        "from torch.optim import Optimizer\n",
        "\n",
        "\n",
        "class InClassOptimizer(Optimizer):\n",
        "    def step(self):\n",
        "        \"\"\"Perform single optimization step.\"\"\"\n",
        "        with torch.no_grad(): # выключим градиенты\n",
        "            for group in self.param_groups:\n",
        "                self._group_step(group)\n",
        "\n",
        "    def _group_step(self, group):\n",
        "        # group ~ dict[str, ...]\n",
        "        \"\"\"\n",
        "        Private helper function to perform\n",
        "        single optimization step on model parameters.\n",
        "        \"\"\"\n",
        "        raise NotImplementedError()"
      ],
      "execution_count": null,
      "outputs": []
    },
    {
      "cell_type": "markdown",
      "metadata": {
        "id": "jSEIwijxJD5T"
      },
      "source": [
        "**Task**: Напишите свою реализацию Adam:"
      ]
    },
    {
      "cell_type": "code",
      "metadata": {
        "id": "L0gY_GKKJD5U"
      },
      "source": [
        "class Adam(InClassOptimizer):\n",
        "    def __init__(self, params, lr=0.001, eps=1e-13, beta_1=0.9, beta_2=0.999):\n",
        "        defaults = dict(lr=lr, eps=eps, beta_1=beta_1, beta_2=beta_2)\n",
        "        super().__init__(params, defaults)\n",
        "\n",
        "    def _group_step(self, group):\n",
        "        # One group contains information about values passed in init\n",
        "        # and model parameters to update\n",
        "        lr = group['lr']\n",
        "        eps = group['eps']\n",
        "        beta_1 = group['beta_1']\n",
        "        beta_2 = group['beta_2']\n",
        "\n",
        "        state = self.state\n",
        "        if len(state) == 0:\n",
        "            state['step'] = 0\n",
        "        state['step'] += 1\n",
        "        step = state['step']\n",
        "\n",
        "        for param in filter(lambda x: x.grad is not None, group['params']):\n",
        "            self._init_adam_buffer(param)\n",
        "            grad = param.grad\n",
        "            m, v = self._get_adam_buffer(param)\n",
        "            m.mul_(beta_1).add_(grad, alpha=1 - beta_1)\n",
        "            v.mul_(beta_2).add_(grad**2, alpha=1 - beta_2)\n",
        "            m_hat = m / (1 - beta_1 ** step)\n",
        "            v_hat = v / (1 - beta_2 ** step)\n",
        "            weight = 1 / (v_hat + eps)**0.5\n",
        "\n",
        "            param.add_(m_hat * weight, alpha = -lr)\n",
        "\n",
        "\n",
        "\n",
        "    def _get_adam_buffer(self, param):\n",
        "        \"\"\"\n",
        "        Get accumulated gradients for Adam.\n",
        "\n",
        "        Parameters\n",
        "        ----------\n",
        "        param : `torch.Tensor`, required\n",
        "            Model parameter to get accumulated gradeints for Adagrad.\n",
        "\n",
        "        Returns\n",
        "        -------\n",
        "        Accumulated Adam gradients for parameter.\n",
        "        \"\"\"\n",
        "        return self.state[param]['m'], self.state[param]['v']\n",
        "\n",
        "    def _init_adam_buffer(self, param):\n",
        "        \"\"\"\n",
        "        Initialize accumulated gradeints for adam.\n",
        "\n",
        "        Parameters\n",
        "        ----------\n",
        "        param : `torch.Tensor`, required\n",
        "            Model parameter to get accumulated gradeints for adam.\n",
        "        \"\"\"\n",
        "        param_state = self.state[param]\n",
        "\n",
        "        if 'm' not in param_state:\n",
        "            param_state['m'] = torch.zeros_like(param)\n",
        "\n",
        "        if 'v' not in param_state:\n",
        "            param_state['v'] = torch.zeros_like(param)\n"
      ],
      "execution_count": null,
      "outputs": []
    },
    {
      "cell_type": "markdown",
      "metadata": {
        "id": "epc_obZdJD5X"
      },
      "source": [
        "**Task**: Создайте параметры для обучения линейной регрессии, сделаем Xavier ициализацию, которая выглядит следующим образом: \n",
        "\n",
        "$$w \\sim U[-\\frac{\\sqrt{6}}{\\sqrt{n_{in} + n_{out}}}, \\frac{\\sqrt{6}}{\\sqrt{n_{in} + n_{out}}}]$$\n",
        "\n",
        "где: \n",
        "\n",
        "* $n_{in}$ -- размер входа (в нейронах) \n",
        "* $n_{out}$ -- размер выхода (в нейронах)\n",
        "\n",
        "Подумайте над выбором $n_{in}$ и $n_{out}$ самостоятельно. "
      ]
    },
    {
      "cell_type": "markdown",
      "metadata": {
        "id": "7SSllPTyXYjj"
      },
      "source": [
        "$n_{in} = 784$\n",
        "\n",
        "$n_{out}= 10$"
      ]
    },
    {
      "cell_type": "code",
      "metadata": {
        "id": "C7JWgpjUYAM4"
      },
      "source": [
        "low = (-6 ** 0.5)/(784 + 10)**0.5\n",
        "high = -low"
      ],
      "execution_count": null,
      "outputs": []
    },
    {
      "cell_type": "code",
      "metadata": {
        "id": "PnZ13G6qJD5Y"
      },
      "source": [
        "weights = torch.distributions.uniform.Uniform(torch.tensor(low), torch.tensor(high)).sample((784, 10))\n",
        "intercept = torch.distributions.uniform.Uniform(torch.tensor(low), torch.tensor(high)).sample((1, 10))"
      ],
      "execution_count": null,
      "outputs": []
    },
    {
      "cell_type": "code",
      "metadata": {
        "id": "PqEpzjRSV5W0",
        "outputId": "bb8ef20b-9933-4267-ae45-d5c8577e63d7",
        "colab": {
          "base_uri": "https://localhost:8080/"
        }
      },
      "source": [
        "weights.requires_grad_()\n",
        "intercept.requires_grad_()"
      ],
      "execution_count": null,
      "outputs": [
        {
          "output_type": "execute_result",
          "data": {
            "text/plain": [
              "tensor([[ 0.0466, -0.0239, -0.0012,  0.0824,  0.0201,  0.0849, -0.0062, -0.0205,\n",
              "         -0.0680,  0.0500]], requires_grad=True)"
            ]
          },
          "metadata": {
            "tags": []
          },
          "execution_count": 6
        }
      ]
    },
    {
      "cell_type": "markdown",
      "metadata": {
        "id": "6_0sp0_7JD5g"
      },
      "source": [
        "Загрузим данные и создадим даталоадеры:"
      ]
    },
    {
      "cell_type": "code",
      "metadata": {
        "id": "tcDiFnD5JD5h",
        "outputId": "8d68bacd-11ad-4c98-d185-0fcc04a400cd",
        "colab": {
          "base_uri": "https://localhost:8080/",
          "height": 391,
          "referenced_widgets": [
            "269cadf98c544182bb170da1c17aebdc",
            "92c71d9625d44324a479603b759d070d",
            "adf5af0d62654befb11db299f656dcc6",
            "ed65a8ae61cb46fe981df75fd33b9519",
            "3474f3122dea4ce689b0d5af20df5825",
            "84ff15299c1f4f73a2ee4c05ed851b5e",
            "9126dcf28da346d0b42e9940d0d8e0b8",
            "d1d8fe58468c42659a9125692af8739e",
            "4b457d4c691545e98d663b23b3058313",
            "d7e1c62992c647ba8809d98b7fbf8683",
            "7e4788801f594ceeb75b8c8fde505534",
            "642149c0e31846239094fb9f32227da4",
            "af7420423ec14787a83d122ead1e4e65",
            "d036321d92c548328dbc7687cd939092",
            "f9855661b0df42c8bb6490a59584d993",
            "a796fef5ebb645d7bcd929a7073696a8",
            "69c0dce3ece1485bb59c9b988b7f556c",
            "83ac64cae29846d79dd21ffa73d7c0d6",
            "487188e5d1414fa193f152d8e9e7af50",
            "d5b39af77aab446d8820b41891c2192b",
            "f4d1f0859f1e4352a99469546ea689b7",
            "20f2f8de03ad4b44bd93637b733fc84f",
            "f0461123d3584071a998a4b45eb33b4f",
            "03913856fcfc4cf1b48c832c7cb1bb11",
            "9ac29d8d1abd4074b936f223644e4824",
            "66d9043df2c34da3989284cdddf9e78b",
            "2509b7d5613548c9b67df4a962a427a0",
            "d9017b5e7503417e9c9fedad2cba7852",
            "44d095aa97724361a81db6b3fba057ff",
            "d682e6760b5e4d24ba996251673adc01",
            "6f6e6173b18e40d0b8efd1c3c2cb92d1",
            "41c6896710ed48eda950005e975c276c"
          ]
        }
      },
      "source": [
        "fashion_mnist_train = torchvision.datasets.FashionMNIST(\n",
        "    './data',\n",
        "    train=True,\n",
        "    download=True,\n",
        "    transform=transforms.Compose([transforms.ToTensor()])\n",
        ")\n",
        "train_dataloader = DataLoader(fashion_mnist_train, batch_size=128, shuffle=True, num_workers=2)\n",
        "\n",
        "fashion_mnist_eval = torchvision.datasets.FashionMNIST(\n",
        "    './data',\n",
        "    train=False,\n",
        "    download=True,\n",
        "    transform=transforms.Compose([transforms.ToTensor()])\n",
        ")\n",
        "test_dataloader = DataLoader(fashion_mnist_eval, batch_size=128, shuffle=False, num_workers=2)"
      ],
      "execution_count": null,
      "outputs": [
        {
          "output_type": "stream",
          "text": [
            "Downloading http://fashion-mnist.s3-website.eu-central-1.amazonaws.com/train-images-idx3-ubyte.gz to ./data/FashionMNIST/raw/train-images-idx3-ubyte.gz\n"
          ],
          "name": "stdout"
        },
        {
          "output_type": "display_data",
          "data": {
            "application/vnd.jupyter.widget-view+json": {
              "model_id": "269cadf98c544182bb170da1c17aebdc",
              "version_minor": 0,
              "version_major": 2
            },
            "text/plain": [
              "HBox(children=(FloatProgress(value=1.0, bar_style='info', max=1.0), HTML(value='')))"
            ]
          },
          "metadata": {
            "tags": []
          }
        },
        {
          "output_type": "stream",
          "text": [
            "Extracting ./data/FashionMNIST/raw/train-images-idx3-ubyte.gz to ./data/FashionMNIST/raw\n",
            "Downloading http://fashion-mnist.s3-website.eu-central-1.amazonaws.com/train-labels-idx1-ubyte.gz to ./data/FashionMNIST/raw/train-labels-idx1-ubyte.gz\n"
          ],
          "name": "stdout"
        },
        {
          "output_type": "display_data",
          "data": {
            "application/vnd.jupyter.widget-view+json": {
              "model_id": "4b457d4c691545e98d663b23b3058313",
              "version_minor": 0,
              "version_major": 2
            },
            "text/plain": [
              "HBox(children=(FloatProgress(value=1.0, bar_style='info', max=1.0), HTML(value='')))"
            ]
          },
          "metadata": {
            "tags": []
          }
        },
        {
          "output_type": "stream",
          "text": [
            "Extracting ./data/FashionMNIST/raw/train-labels-idx1-ubyte.gz to ./data/FashionMNIST/raw\n",
            "Downloading http://fashion-mnist.s3-website.eu-central-1.amazonaws.com/t10k-images-idx3-ubyte.gz to ./data/FashionMNIST/raw/t10k-images-idx3-ubyte.gz\n",
            "\n"
          ],
          "name": "stdout"
        },
        {
          "output_type": "display_data",
          "data": {
            "application/vnd.jupyter.widget-view+json": {
              "model_id": "69c0dce3ece1485bb59c9b988b7f556c",
              "version_minor": 0,
              "version_major": 2
            },
            "text/plain": [
              "HBox(children=(FloatProgress(value=1.0, bar_style='info', max=1.0), HTML(value='')))"
            ]
          },
          "metadata": {
            "tags": []
          }
        },
        {
          "output_type": "stream",
          "text": [
            "Extracting ./data/FashionMNIST/raw/t10k-images-idx3-ubyte.gz to ./data/FashionMNIST/raw\n",
            "Downloading http://fashion-mnist.s3-website.eu-central-1.amazonaws.com/t10k-labels-idx1-ubyte.gz to ./data/FashionMNIST/raw/t10k-labels-idx1-ubyte.gz\n"
          ],
          "name": "stdout"
        },
        {
          "output_type": "display_data",
          "data": {
            "application/vnd.jupyter.widget-view+json": {
              "model_id": "9ac29d8d1abd4074b936f223644e4824",
              "version_minor": 0,
              "version_major": 2
            },
            "text/plain": [
              "HBox(children=(FloatProgress(value=1.0, bar_style='info', max=1.0), HTML(value='')))"
            ]
          },
          "metadata": {
            "tags": []
          }
        },
        {
          "output_type": "stream",
          "text": [
            "Extracting ./data/FashionMNIST/raw/t10k-labels-idx1-ubyte.gz to ./data/FashionMNIST/raw\n",
            "Processing...\n",
            "Done!\n"
          ],
          "name": "stdout"
        },
        {
          "output_type": "stream",
          "text": [
            "/usr/local/lib/python3.6/dist-packages/torchvision/datasets/mnist.py:469: UserWarning: The given NumPy array is not writeable, and PyTorch does not support non-writeable tensors. This means you can write to the underlying (supposedly non-writeable) NumPy array using the tensor. You may want to copy the array to protect its data or make it writeable before converting it to a tensor. This type of warning will be suppressed for the rest of this program. (Triggered internally at  /pytorch/torch/csrc/utils/tensor_numpy.cpp:141.)\n",
            "  return torch.from_numpy(parsed.astype(m[2], copy=False)).view(*s)\n"
          ],
          "name": "stderr"
        }
      ]
    },
    {
      "cell_type": "markdown",
      "metadata": {
        "id": "7u0RtXRLJD5l"
      },
      "source": [
        "Напишите функцию для тренировки логистической регрессии, она должна: \n",
        "    * Делать предсказания \n",
        "    * Считать лосс \n",
        "    * Подсчитывать градиенты\n",
        "    * Делать шаг оптимизации\n",
        "    * Обнулять посчитанные градиенты\n",
        "    * Считать метрики \n",
        "    * Возвращать полученные метрики\n",
        "    \n",
        "После этого предусмотрите возможность визуализировать метрики, чтобы нарисовать картинки, а именно от вас требуется визуализировать: \n",
        "\n",
        "    * Зависимость лосса от количества итераций\n",
        "    * Зависимость доли правильных ответов от количества итераций"
      ]
    },
    {
      "cell_type": "code",
      "metadata": {
        "id": "tDlWCJjmfM9I"
      },
      "source": [
        "class LinearRegression(torch.nn.Module):\n",
        "\n",
        "    def __init__(self, weights, bias):\n",
        "        super().__init__()\n",
        "        self.weights = weights\n",
        "        self.bias = bias\n",
        "\n",
        "    def forward(self, x):\n",
        "        x = nn.Flatten()(x)\n",
        "        pred = x @ self.weights + self.bias\n",
        "        return pred\n",
        "\n",
        "    def parameters(self):\n",
        "        return (self.weights, self.bias)\n"
      ],
      "execution_count": null,
      "outputs": []
    },
    {
      "cell_type": "code",
      "metadata": {
        "id": "Ntt9IfsQf_TC"
      },
      "source": [
        "linreg = LinearRegression(weights, intercept)"
      ],
      "execution_count": null,
      "outputs": []
    },
    {
      "cell_type": "code",
      "metadata": {
        "id": "-HicHoOYiI3j"
      },
      "source": [
        "def train_model_cpu(model, train_dataloader, val_dataloader, optimizer, nn_name:str, optim_name:str): #gpu вечно выдавал illegal acces\n",
        "    loss_func = nn.CrossEntropyLoss()\n",
        "    train_loss = []\n",
        "    train_accuracy = []\n",
        "    train_epoch_len = []\n",
        "    val_loss_plot = []\n",
        "    val_accuracy_plot = []\n",
        "    for epoch in range(1, 51):\n",
        "\n",
        "        model.train()\n",
        "        batch_num = 0\n",
        "\n",
        "        for data, answers in train_dataloader:\n",
        "\n",
        "          \n",
        "\n",
        "            optimizer.zero_grad()\n",
        "            pred = model(data)\n",
        "            loss = loss_func(pred, answers)\n",
        "            loss.backward()\n",
        "            optimizer.step()\n",
        "\n",
        "            train_loss.append(loss.item()/len(pred))\n",
        "            train_accuracy.append((torch.argmax(pred, dim=1) == answers).sum().item()/len(pred))\n",
        "            batch_num += 1\n",
        "          \n",
        "        train_epoch_len.append(batch_num)\n",
        "\n",
        "        model.eval()\n",
        "        val_loss = []\n",
        "        val_accuracy = []\n",
        "\n",
        "        with torch.no_grad():\n",
        "            \n",
        "            for data, answers in train_dataloader:\n",
        "\n",
        "      \n",
        "\n",
        "                pred = model(data)\n",
        "                loss = loss_func(pred, answers)\n",
        "\n",
        "                val_loss.append(loss.item()/len(pred))\n",
        "                val_accuracy.append((torch.argmax(pred, dim=1) == answers).sum().item()/len(pred))\n",
        "        val_loss_plot.append(sum(val_loss)/len(val_loss))\n",
        "        val_accuracy_plot.append(sum(val_accuracy)/ len(val_accuracy))\n",
        "\n",
        "\n",
        "        clear_output()\n",
        "        plt.figure()\n",
        "        plt.plot(np.arange(1, sum(train_epoch_len)+1), train_loss, label='train', color='blue', zorder=1)\n",
        "        plt.scatter(np.array(train_epoch_len) * np.arange(1, epoch+1), val_loss_plot, color='red', label='val', zorder=2)\n",
        "        plt.xlabel('Batch number')\n",
        "        plt.ylabel('Loss')\n",
        "        plt.title(f'Loss, Model: {nn_name}, Optimizer: {optim_name}')\n",
        "        plt.legend()\n",
        "        plt.show()\n",
        "        plt.figure()\n",
        "        plt.plot(np.arange(1, sum(train_epoch_len)+1), train_accuracy, label='train', color='blue', zorder=1)\n",
        "        plt.scatter(np.array(train_epoch_len) * np.arange(1, epoch+1), val_accuracy_plot, color='red', label='val', zorder=2)\n",
        "        plt.xlabel('Batch number')\n",
        "        plt.ylabel('Loss')\n",
        "        plt.title(f'Accuracy, Model: {nn_name}, Optimizer: {optim_name}')\n",
        "        plt.legend()\n",
        "        plt.show()\n",
        "        print(f'epoch: {epoch}')\n",
        "    \n",
        "    print(f'{nn_name} with {optim_name} training done')\n",
        "    print(f'Vall loss: {val_loss_plot[-1]} \\nVall accuracy: {val_accuracy_plot[-1]}')"
      ],
      "execution_count": null,
      "outputs": []
    },
    {
      "cell_type": "code",
      "metadata": {
        "id": "GlcWLdZrdQfI",
        "outputId": "28caba3c-995b-4e75-bbdf-dcd45180ff1f",
        "colab": {
          "base_uri": "https://localhost:8080/",
          "height": 643
        }
      },
      "source": [
        "train_model_cpu(linreg, train_dataloader, test_dataloader, Adam(linreg.parameters()), 'Linreg', 'Adam')"
      ],
      "execution_count": null,
      "outputs": [
        {
          "output_type": "display_data",
          "data": {
            "image/png": "[encoded data removed]",
            "text/plain": [
              "<Figure size 432x288 with 1 Axes>"
            ]
          },
          "metadata": {
            "tags": [],
            "needs_background": "light"
          }
        },
        {
          "output_type": "display_data",
          "data": {
            "image/png": "[encoded data removed]",
            "text/plain": [
              "<Figure size 432x288 with 1 Axes>"
            ]
          },
          "metadata": {
            "tags": [],
            "needs_background": "light"
          }
        },
        {
          "output_type": "stream",
          "text": [
            "epoch: 50\n",
            "linear with adam training done\n",
            "Vall loss: 0.0028319104621617104 \n",
            "Vall accuracy: 0.8717572850035537\n"
          ],
          "name": "stdout"
        }
      ]
    },
    {
      "cell_type": "markdown",
      "metadata": {
        "id": "mSTW3cK1JD5v"
      },
      "source": [
        "#### Вопросы к секции: \n",
        "\n",
        "* Своими словами и без математики объясните благодаря чему Adam дает несмещенную оценку на квадрат градиента\n",
        "* Когда модель начала переобучаться? Как вы это поняли? Сделайте визуализацию и докажите свою точку зрения."
      ]
    },
    {
      "cell_type": "markdown",
      "metadata": {
        "id": "Cbg6df4Uzxvu"
      },
      "source": [
        "Ответы\n",
        "\n",
        "1. Adam на каждом шаге накапливает квадрат градиента батча с некоторым весом. Перед шагом все накопленные квадраты усредняются, что позволяет получить несмещенную оценку градиента функции по всем объектам, а не только по объектам батча. Если градиент функции меняется в зависимости от итераций(а так и происходит во время спуска), то это не проблема, потому что старые квадраты градиента оказываются в оценке с меньшим весом и получается оценка актуального на данном шаге градиента.\n",
        "\n",
        "2. Логистическая регрессия не начала переобучаться. На графике видно, что модель максимально реализовала свои разделяющие способности и достигла максимального качества на обучающей и на тестовой выборке на первых 5 эпохах. На последующих логистическая регрессия не переобучилась, так как это слишком простая модель для разделения такой выборки и даже с бесконечным количеством эпох она не сможет выдавать лучшее качество ни на трейне ни на валидации"
      ]
    },
    {
      "cell_type": "markdown",
      "metadata": {
        "id": "cKx1daasJD5w"
      },
      "source": [
        "### Моя первая нейросеть (4 балла)"
      ]
    },
    {
      "cell_type": "markdown",
      "metadata": {
        "id": "BWIQUNHKJD5x"
      },
      "source": [
        "В данной секции вам нужно сделать следующие вещи: \n",
        "\n",
        "* Реализовать три разных архитектуры нейросетей. Эти архитектуры должны принципиально отличаться друг от друга. Разрешается одной из архитекур брать полностью полносвязную модель. Остальные две должны быть сверточными и сильно отличаться друг от друга. К примеру, одна из таких архитектур может быть VGG подобная сеть, а другая ResNet подобная архитектура. \n",
        "\n",
        "* Написать цикл для обучения которым можно обучать все три модели без изменений кода\n",
        "\n",
        "* Попробовать каждую модель с двумя оптимизаторами: RMSprop и SGD with momentum\n",
        "\n",
        "* Визуализировать результаты перфоманса каждой модели (две метрики минимум для каждого сетапа, например, лосс и долю правильных ответов). В данном пункте мы ждем от вас визуализацию зависимости метрики от номера итерации обучения.\n",
        "\n",
        "* Сделать выводы какие были модели были лучше и как вы думаете почему?"
      ]
    },
    {
      "cell_type": "code",
      "metadata": {
        "id": "V1wDN7DKJD5y",
        "outputId": "3b1b0d44-7a9c-4508-8f94-fc48777bd01c",
        "colab": {
          "base_uri": "https://localhost:8080/"
        }
      },
      "source": [
        "def train_model(model, train_dataloader, val_dataloader, optimizer, nn_name:str, optim_name:str):\n",
        "    loss_func = nn.CrossEntropyLoss()\n",
        "    train_loss = []\n",
        "    train_accuracy = []\n",
        "    train_epoch_len = []\n",
        "    val_loss_plot = []\n",
        "    val_accuracy_plot = []\n",
        "    for epoch in range(1, 51):\n",
        "\n",
        "        model.train()\n",
        "        batch_num = 0\n",
        "\n",
        "        for data, answers in train_dataloader:\n",
        "\n",
        "            data = data.to('cuda:0')\n",
        "            answers = answers.to('cuda:0')\n",
        "\n",
        "            optimizer.zero_grad()\n",
        "            pred = model(data)\n",
        "            loss = loss_func(pred, answers)\n",
        "            loss.backward()\n",
        "            optimizer.step()\n",
        "\n",
        "            train_loss.append(loss.item()/len(pred))\n",
        "            train_accuracy.append((torch.argmax(pred, dim=1) == answers).sum().item()/len(pred))\n",
        "            batch_num += 1\n",
        "          \n",
        "        train_epoch_len.append(batch_num)\n",
        "\n",
        "        model.eval()\n",
        "        val_loss = []\n",
        "        val_accuracy = []\n",
        "\n",
        "        with torch.no_grad():\n",
        "            \n",
        "            for data, answers in train_dataloader:\n",
        "\n",
        "                data = data.to('cuda:0')\n",
        "                answers = answers.to('cuda:0')\n",
        "\n",
        "                pred = model(data)\n",
        "                loss = loss_func(pred, answers)\n",
        "\n",
        "                val_loss.append(loss.item()/len(pred))\n",
        "                val_accuracy.append((torch.argmax(pred, dim=1) == answers).sum().item()/len(pred))\n",
        "        val_loss_plot.append(sum(val_loss)/len(val_loss))\n",
        "        val_accuracy_plot.append(sum(val_accuracy)/ len(val_accuracy))\n",
        "\n",
        "\n",
        "        clear_output()\n",
        "        plt.figure()\n",
        "        plt.plot(np.arange(1, sum(train_epoch_len)+1), train_loss, label='train', color='blue', zorder=1)\n",
        "        plt.scatter(np.array(train_epoch_len) * np.arange(1, epoch+1), val_loss_plot, color='red', label='val', zorder=2)\n",
        "        plt.xlabel('Batch number')\n",
        "        plt.ylabel('Loss')\n",
        "        plt.title(f'Loss, Model: {nn_name}, Optimizer: {optim_name}')\n",
        "        plt.legend()\n",
        "        plt.show()\n",
        "        plt.figure()\n",
        "        plt.plot(np.arange(1, sum(train_epoch_len)+1), train_accuracy, label='train', color='blue', zorder=1)\n",
        "        plt.scatter(np.array(train_epoch_len) * np.arange(1, epoch+1), val_accuracy_plot, color='red', label='val', zorder=2)\n",
        "        plt.xlabel('Batch number')\n",
        "        plt.ylabel('Loss')\n",
        "        plt.title(f'Accuracy, Model: {nn_name}, Optimizer: {optim_name}')\n",
        "        plt.legend()\n",
        "        plt.show()\n",
        "        print(f'epoch: {epoch}')\n",
        "    \n",
        "    print(f'{nn_name} with {optim_name} training done')\n",
        "    print(f'Vall loss: {val_loss_plot[-1]} \\nVall accuracy: {val_accuracy_plot[-1]}')"
      ],
      "execution_count": null,
      "outputs": [
        {
          "output_type": "stream",
          "text": [
            "\n"
          ],
          "name": "stdout"
        }
      ]
    },
    {
      "cell_type": "code",
      "metadata": {
        "id": "pV1y39h2JD52"
      },
      "source": [
        "class FirstModel(torch.nn.Module):\n",
        "    def __init__(self):\n",
        "        super().__init__()\n",
        "        self.conv = nn.Conv2d(in_channels=1, out_channels=64, kernel_size=5, padding=2)\n",
        "        self.norm = nn.BatchNorm2d(num_features=64)\n",
        "        self.relu = nn.ReLU()\n",
        "        self.pool = nn.MaxPool2d(kernel_size=2, padding=1)\n",
        "\n",
        "\n",
        "        self.convblock_128_incr = nn.Sequential(\n",
        "            nn.Conv2d(in_channels=64, out_channels=128, kernel_size=1),\n",
        "            nn.BatchNorm2d(128),\n",
        "            nn.ReLU(),\n",
        "            nn.Conv2d(in_channels=128, out_channels=128, kernel_size=3, padding=1),\n",
        "            nn.BatchNorm2d(128),\n",
        "            nn.ReLU(),\n",
        "            nn.Conv2d(in_channels=128, out_channels=128, kernel_size=1),\n",
        "            nn.BatchNorm2d(128)\n",
        "        )\n",
        "\n",
        "        self.convblock_128 = nn.Sequential(\n",
        "            nn.Conv2d(in_channels=128, out_channels=128, kernel_size=1),\n",
        "            nn.BatchNorm2d(128),\n",
        "            nn.ReLU(),\n",
        "            nn.Conv2d(in_channels=128, out_channels=128, kernel_size=3, padding=1),\n",
        "            nn.BatchNorm2d(128),\n",
        "            nn.ReLU(),\n",
        "            nn.Conv2d(in_channels=128, out_channels=128, kernel_size=1),\n",
        "            nn.BatchNorm2d(128)\n",
        "        )\n",
        "\n",
        "        self.convblock_256_incr = nn.Sequential(\n",
        "            nn.Conv2d(in_channels=128, out_channels=256, kernel_size=1, stride=2),\n",
        "            nn.BatchNorm2d(256),\n",
        "            nn.ReLU(),\n",
        "            nn.Conv2d(in_channels=256, out_channels=256, kernel_size=3, stride=1, padding=1),\n",
        "            nn.BatchNorm2d(256),\n",
        "            nn.ReLU(),\n",
        "            nn.Conv2d(in_channels=256, out_channels=256, kernel_size=1, stride=1),\n",
        "            nn.BatchNorm2d(256)\n",
        "        )\n",
        "\n",
        "        self.convblock_256 = nn.Sequential(\n",
        "            nn.Conv2d(in_channels=256, out_channels=256, kernel_size=1, stride=1),\n",
        "            nn.BatchNorm2d(256),\n",
        "            nn.ReLU(),\n",
        "            nn.Conv2d(in_channels=256, out_channels=256, kernel_size=3, stride=1, padding=1),\n",
        "            nn.BatchNorm2d(256),\n",
        "            nn.ReLU(),\n",
        "            nn.Conv2d(in_channels=256, out_channels=256, kernel_size=1, stride=1),\n",
        "            nn.BatchNorm2d(256)\n",
        "        )\n",
        "\n",
        "        \n",
        "        self.convblock_128_short = nn.Conv2d(in_channels=64, out_channels=128, kernel_size=1)\n",
        "        self.convblock_256_short = nn.Conv2d(in_channels=128, out_channels=256, kernel_size=1, stride=2)\n",
        "        self.avg_pool = nn.AdaptiveAvgPool3d((1,1,10))\n",
        "        self.softmax = nn.Softmax()\n",
        "        self.flatten = nn.Flatten()\n",
        "\n",
        "\n",
        "    def forward(self, x):\n",
        "\n",
        "        x1 = self.pool(self.relu(self.norm(self.conv(x))))\n",
        "        x2 = self.relu(self.convblock_128_incr(x1) + self.convblock_128_short(x1))\n",
        "        x3 = self.relu(self.convblock_128(x2) + x2)\n",
        "        x4 = self.relu(self.convblock_128(x3) + x3)\n",
        "        x5 = self.relu(self.convblock_128(x4) + x4)\n",
        "        x6 = self.relu(self.convblock_256_incr(x5) + self.convblock_256_short(x5))\n",
        "        x7 = self.relu(self.convblock_256(x6) + x6)\n",
        "        x8 = self.relu(self.convblock_256(x7) + x7)\n",
        "        x9 = self.relu(self.convblock_256(x8) + x8)\n",
        "        x10 = self.softmax(self.flatten(self.avg_pool(x9)))\n",
        "        return x10"
      ],
      "execution_count": null,
      "outputs": []
    },
    {
      "cell_type": "code",
      "metadata": {
        "id": "yJycNOk7JD57"
      },
      "source": [
        "second_model = nn.Sequential(\n",
        "    nn.Conv2d(in_channels=1, out_channels=16, kernel_size=3, padding=1),\n",
        "    nn.BatchNorm2d(16),\n",
        "    nn.ReLU(),\n",
        "\n",
        "    nn.MaxPool2d(kernel_size=2, stride=2),\n",
        "    nn.Conv2d(in_channels=16, out_channels=32, kernel_size=3, padding=1),\n",
        "    nn.BatchNorm2d(32),\n",
        "    nn.ReLU(), \n",
        "\n",
        "    nn.MaxPool2d(kernel_size=2, stride=2),\n",
        "    nn.Conv2d(in_channels=32, out_channels=64, kernel_size=3, padding=1),\n",
        "    nn.BatchNorm2d(64),\n",
        "    nn.ReLU(),\n",
        "\n",
        "    nn.MaxPool2d(kernel_size=2, stride=2),\n",
        "    nn.Conv2d(in_channels=64, out_channels=128, kernel_size=3, padding=1),\n",
        "    nn.BatchNorm2d(128),\n",
        "    nn.ReLU(),\n",
        "\n",
        "    nn.Flatten(),\n",
        "\n",
        "    nn.Linear(in_features=1152, out_features=1152),\n",
        "    nn.Dropout(0.5),\n",
        "    nn.ReLU(),\n",
        "    nn.Linear(in_features=1152, out_features=1152),\n",
        "    nn.Dropout(0.5),\n",
        "    nn.ReLU(),\n",
        "    nn.Linear(in_features=1152, out_features=10)\n",
        ")"
      ],
      "execution_count": null,
      "outputs": []
    },
    {
      "cell_type": "code",
      "metadata": {
        "id": "pX2LYAprJD6C"
      },
      "source": [
        "class ThirdModel(torch.nn.Module):\n",
        "    def __init__(self):\n",
        "        super().__init__()\n",
        "\n",
        "        self.layers = torch.nn.ModuleDict({\n",
        "            'relu' : nn.ReLU(),\n",
        "            'start': nn.Sequential(nn.Conv2d(in_channels=1, out_channels=16, kernel_size=3, padding=1),\n",
        "                                   nn.BatchNorm2d(16)),\n",
        "            'second': nn.Sequential(nn.Conv2d(in_channels=16, out_channels=32, kernel_size=3),\n",
        "                                    nn.BatchNorm2d(32)),\n",
        "            'block_64': nn.Sequential(nn.Conv2d(in_channels=32, out_channels=64, kernel_size=1),\n",
        "                                      nn.BatchNorm2d(64),\n",
        "                                      nn.Conv2d(in_channels=64, out_channels=64, kernel_size=3, padding=1, groups=64),\n",
        "                                      nn.BatchNorm2d(64),\n",
        "                                      nn.ReLU(),\n",
        "                                      nn.Conv2d(in_channels=64, out_channels=64, kernel_size=1),\n",
        "                                      nn.BatchNorm2d(64),\n",
        "                                      nn.Conv2d(in_channels=64, out_channels=64, kernel_size=3, padding=1, groups=64),\n",
        "                                      nn.BatchNorm2d(64),\n",
        "                                      nn.MaxPool2d(kernel_size=2, stride=2)),\n",
        "            'block_128': nn.Sequential(nn.ReLU(),\n",
        "                                      nn.Conv2d(in_channels=64, out_channels=128, kernel_size=1),\n",
        "                                      nn.BatchNorm2d(128),\n",
        "                                      nn.Conv2d(in_channels=128, out_channels=128, kernel_size=3, padding=1, groups=128),\n",
        "                                      nn.BatchNorm2d(128),\n",
        "                                      nn.ReLU(),\n",
        "                                      nn.Conv2d(in_channels=128, out_channels=128, kernel_size=1),\n",
        "                                      nn.BatchNorm2d(128),\n",
        "                                      nn.Conv2d(in_channels=128, out_channels=128, kernel_size=3, padding=1, groups=128),\n",
        "                                      nn.BatchNorm2d(128)),\n",
        "            'block': nn.Sequential(nn.ReLU(),\n",
        "                                      nn.Conv2d(in_channels=128, out_channels=128, kernel_size=1),\n",
        "                                      nn.BatchNorm2d(128),\n",
        "                                      nn.Conv2d(in_channels=128, out_channels=128, kernel_size=3, padding=1, groups=128),\n",
        "                                      nn.BatchNorm2d(128),\n",
        "                                      nn.ReLU(),\n",
        "                                      nn.Conv2d(in_channels=128, out_channels=128, kernel_size=1),\n",
        "                                      nn.BatchNorm2d(128),\n",
        "                                      nn.Conv2d(in_channels=128, out_channels=128, kernel_size=3, padding=1, groups=128),\n",
        "                                      nn.BatchNorm2d(128),\n",
        "                                      nn.ReLU(),\n",
        "                                      nn.Conv2d(in_channels=128, out_channels=128, kernel_size=1),\n",
        "                                      nn.BatchNorm2d(128),\n",
        "                                      nn.Conv2d(in_channels=128, out_channels=128, kernel_size=3, padding=1, groups=128),\n",
        "                                      nn.BatchNorm2d(128)),\n",
        "            '64': nn.Sequential(nn.Conv2d(in_channels=32, out_channels=64, kernel_size=1, stride=2),\n",
        "                                nn.BatchNorm2d(64)),\n",
        "            '128': nn.Sequential(nn.Conv2d(in_channels=64, out_channels=128, kernel_size=1),\n",
        "                                 nn.BatchNorm2d(128)),\n",
        "            'pool': nn.Sequential(nn.AvgPool2d(kernel_size=13),\n",
        "                                  nn.Flatten()),\n",
        "            'dropout': nn.Dropout(0.5),\n",
        "            'logreg': nn.Sequential(nn.Linear(in_features=128, out_features=10),\n",
        "                                    nn.Softmax())\n",
        "        })  \n",
        "\n",
        "\n",
        "    def forward(self, x):\n",
        "\n",
        "        x = self.layers['start'](x)\n",
        "        x = self.layers['relu'](x)\n",
        "        x = self.layers['second'](x)\n",
        "        x = self.layers['relu'](x)\n",
        "        x = self.layers['block_64'](x) + self.layers['64'](x)\n",
        "        x = self.layers['block_128'](x) + self.layers['128'](x)\n",
        "        x = self.layers['block'](x) + x\n",
        "        x = self.layers['block'](x) + x\n",
        "        x = self.layers['pool'](x)\n",
        "        x = self.layers['dropout'](x)\n",
        "        x = self.layers['logreg'](x)\n",
        "      \n",
        "        \n",
        "        return x\n",
        "                    "
      ],
      "execution_count": null,
      "outputs": []
    },
    {
      "cell_type": "code",
      "metadata": {
        "id": "n3GOgipgLNjj",
        "outputId": "a133586e-c202-4d64-a70d-70d0a95fc132",
        "colab": {
          "base_uri": "https://localhost:8080/"
        }
      },
      "source": [
        "first_model = FirstModel()\n",
        "first_model.to(device='cuda:0')\n",
        "second_model.to(device='cuda:0')\n",
        "third_model = ThirdModel()\n",
        "third_model.to(device='cuda:0')"
      ],
      "execution_count": null,
      "outputs": [
        {
          "output_type": "execute_result",
          "data": {
            "text/plain": [
              "ThirdModel(\n",
              "  (layers): ModuleDict(\n",
              "    (128): Sequential(\n",
              "      (0): Conv2d(64, 128, kernel_size=(1, 1), stride=(1, 1))\n",
              "      (1): BatchNorm2d(128, eps=1e-05, momentum=0.1, affine=True, track_running_stats=True)\n",
              "    )\n",
              "    (64): Sequential(\n",
              "      (0): Conv2d(32, 64, kernel_size=(1, 1), stride=(2, 2))\n",
              "      (1): BatchNorm2d(64, eps=1e-05, momentum=0.1, affine=True, track_running_stats=True)\n",
              "    )\n",
              "    (block): Sequential(\n",
              "      (0): ReLU()\n",
              "      (1): Conv2d(128, 128, kernel_size=(1, 1), stride=(1, 1))\n",
              "      (2): BatchNorm2d(128, eps=1e-05, momentum=0.1, affine=True, track_running_stats=True)\n",
              "      (3): Conv2d(128, 128, kernel_size=(3, 3), stride=(1, 1), padding=(1, 1), groups=128)\n",
              "      (4): BatchNorm2d(128, eps=1e-05, momentum=0.1, affine=True, track_running_stats=True)\n",
              "      (5): ReLU()\n",
              "      (6): Conv2d(128, 128, kernel_size=(1, 1), stride=(1, 1))\n",
              "      (7): BatchNorm2d(128, eps=1e-05, momentum=0.1, affine=True, track_running_stats=True)\n",
              "      (8): Conv2d(128, 128, kernel_size=(3, 3), stride=(1, 1), padding=(1, 1), groups=128)\n",
              "      (9): BatchNorm2d(128, eps=1e-05, momentum=0.1, affine=True, track_running_stats=True)\n",
              "      (10): ReLU()\n",
              "      (11): Conv2d(128, 128, kernel_size=(1, 1), stride=(1, 1))\n",
              "      (12): BatchNorm2d(128, eps=1e-05, momentum=0.1, affine=True, track_running_stats=True)\n",
              "      (13): Conv2d(128, 128, kernel_size=(3, 3), stride=(1, 1), padding=(1, 1), groups=128)\n",
              "      (14): BatchNorm2d(128, eps=1e-05, momentum=0.1, affine=True, track_running_stats=True)\n",
              "    )\n",
              "    (block_128): Sequential(\n",
              "      (0): ReLU()\n",
              "      (1): Conv2d(64, 128, kernel_size=(1, 1), stride=(1, 1))\n",
              "      (2): BatchNorm2d(128, eps=1e-05, momentum=0.1, affine=True, track_running_stats=True)\n",
              "      (3): Conv2d(128, 128, kernel_size=(3, 3), stride=(1, 1), padding=(1, 1), groups=128)\n",
              "      (4): BatchNorm2d(128, eps=1e-05, momentum=0.1, affine=True, track_running_stats=True)\n",
              "      (5): ReLU()\n",
              "      (6): Conv2d(128, 128, kernel_size=(1, 1), stride=(1, 1))\n",
              "      (7): BatchNorm2d(128, eps=1e-05, momentum=0.1, affine=True, track_running_stats=True)\n",
              "      (8): Conv2d(128, 128, kernel_size=(3, 3), stride=(1, 1), padding=(1, 1), groups=128)\n",
              "      (9): BatchNorm2d(128, eps=1e-05, momentum=0.1, affine=True, track_running_stats=True)\n",
              "    )\n",
              "    (block_64): Sequential(\n",
              "      (0): Conv2d(32, 64, kernel_size=(1, 1), stride=(1, 1))\n",
              "      (1): BatchNorm2d(64, eps=1e-05, momentum=0.1, affine=True, track_running_stats=True)\n",
              "      (2): Conv2d(64, 64, kernel_size=(3, 3), stride=(1, 1), padding=(1, 1), groups=64)\n",
              "      (3): BatchNorm2d(64, eps=1e-05, momentum=0.1, affine=True, track_running_stats=True)\n",
              "      (4): ReLU()\n",
              "      (5): Conv2d(64, 64, kernel_size=(1, 1), stride=(1, 1))\n",
              "      (6): BatchNorm2d(64, eps=1e-05, momentum=0.1, affine=True, track_running_stats=True)\n",
              "      (7): Conv2d(64, 64, kernel_size=(3, 3), stride=(1, 1), padding=(1, 1), groups=64)\n",
              "      (8): BatchNorm2d(64, eps=1e-05, momentum=0.1, affine=True, track_running_stats=True)\n",
              "      (9): MaxPool2d(kernel_size=2, stride=2, padding=0, dilation=1, ceil_mode=False)\n",
              "    )\n",
              "    (dropout): Dropout(p=0.5, inplace=False)\n",
              "    (logreg): Sequential(\n",
              "      (0): Linear(in_features=128, out_features=10, bias=True)\n",
              "      (1): Softmax(dim=None)\n",
              "    )\n",
              "    (pool): Sequential(\n",
              "      (0): AvgPool2d(kernel_size=13, stride=13, padding=0)\n",
              "      (1): Flatten()\n",
              "    )\n",
              "    (relu): ReLU()\n",
              "    (second): Sequential(\n",
              "      (0): Conv2d(16, 32, kernel_size=(3, 3), stride=(1, 1))\n",
              "      (1): BatchNorm2d(32, eps=1e-05, momentum=0.1, affine=True, track_running_stats=True)\n",
              "    )\n",
              "    (start): Sequential(\n",
              "      (0): Conv2d(1, 16, kernel_size=(3, 3), stride=(1, 1), padding=(1, 1))\n",
              "      (1): BatchNorm2d(16, eps=1e-05, momentum=0.1, affine=True, track_running_stats=True)\n",
              "    )\n",
              "  )\n",
              ")"
            ]
          },
          "metadata": {
            "tags": []
          },
          "execution_count": 18
        }
      ]
    },
    {
      "cell_type": "markdown",
      "metadata": {
        "id": "c94ms99KosSd"
      },
      "source": [
        "### Обучение ResNet"
      ]
    },
    {
      "cell_type": "code",
      "metadata": {
        "id": "0iwtIdxhAkNu",
        "outputId": "ceab98fb-1015-4801-ccad-803a2d0cfa71",
        "colab": {
          "base_uri": "https://localhost:8080/",
          "height": 615
        }
      },
      "source": [
        "train_model(first_model, train_dataloader, test_dataloader, optim.SGD(first_model.parameters(), lr=0.001, momentum=0.9), 'ResNet', 'SGD')"
      ],
      "execution_count": null,
      "outputs": [
        {
          "output_type": "display_data",
          "data": {
            "image/png": "[encoded data removed]",
            "text/plain": [
              "<Figure size 432x288 with 1 Axes>"
            ]
          },
          "metadata": {
            "tags": [],
            "needs_background": "light"
          }
        },
        {
          "output_type": "display_data",
          "data": {
            "image/png": "[encoded data removed]",
            "text/plain": [
              "<Figure size 432x288 with 1 Axes>"
            ]
          },
          "metadata": {
            "tags": [],
            "needs_background": "light"
          }
        },
        {
          "output_type": "stream",
          "text": [
            "epoch: 50\n",
            "ResNet with SGD training done\n",
            "Vall loss: 0.01365333448039062 \n",
            "Vall accuracy: 0.8403906805259418\n"
          ],
          "name": "stdout"
        }
      ]
    },
    {
      "cell_type": "code",
      "metadata": {
        "id": "i6rANDbp_Ckf"
      },
      "source": [
        "first_model = FirstModel()\n",
        "first_model.to('cuda:0')"
      ],
      "execution_count": null,
      "outputs": []
    },
    {
      "cell_type": "code",
      "metadata": {
        "id": "cIhg9lYsjgFf",
        "outputId": "609c814c-d6fa-4af6-b1c6-f250e2cd71c3",
        "colab": {
          "base_uri": "https://localhost:8080/",
          "height": 615
        }
      },
      "source": [
        "train_model(first_model, train_dataloader, test_dataloader, optim.RMSprop(first_model.parameters(), lr=0.001, momentum=0.9, eps=1e-6), \n",
        "            'ResNet', 'RMSprop')"
      ],
      "execution_count": null,
      "outputs": [
        {
          "output_type": "display_data",
          "data": {
            "image/png": "[encoded data removed]",
            "text/plain": [
              "<Figure size 432x288 with 1 Axes>"
            ]
          },
          "metadata": {
            "tags": [],
            "needs_background": "light"
          }
        },
        {
          "output_type": "display_data",
          "data": {
            "image/png": "[encoded data removed]",
            "text/plain": [
              "<Figure size 432x288 with 1 Axes>"
            ]
          },
          "metadata": {
            "tags": [],
            "needs_background": "light"
          }
        },
        {
          "output_type": "stream",
          "text": [
            "epoch: 50\n",
            "ResNet with RMSprop training done\n",
            "Vall loss: 0.012447041740036002 \n",
            "Vall accuracy: 0.869247512437811\n"
          ],
          "name": "stdout"
        }
      ]
    },
    {
      "cell_type": "markdown",
      "metadata": {
        "id": "olsLxBdjpPtD"
      },
      "source": [
        "#### Комментарии\n",
        "\n",
        "Реализация ResNet в итоге получилась довольно глубокая, с оптимизатором SGD сеть переобучилась. Точность на большей части тестовой выборки на последних эпохах получилась близкой к одному, однако на валидации ошибок была гораздо больше. Для ограничения переобучения можно было использовать дропауты, но в оригинальной работе их не было и хотелось попробовать обучить максимально близко к оригиналу(но с большим количеством слоев совсем не училась). Кажется, при разработке ResNet использовался датасет с большим количеством картинок и большим размером картинки и поэтому глубина сети на оригинальном датасете не вызывала переобучения. С оптимизатором RMSProp переобучения не случилось, кажется, причиной этому послужило маленькое количество эпох и с его увеличением модель бы могла переобучиться \n"
      ]
    },
    {
      "cell_type": "markdown",
      "metadata": {
        "id": "deKSKt6MozVT"
      },
      "source": [
        "### Обучение VGG"
      ]
    },
    {
      "cell_type": "code",
      "metadata": {
        "id": "oxpYeSAkzpc0",
        "outputId": "bb78c8c7-72df-411e-8936-58da4cbb5418",
        "colab": {
          "base_uri": "https://localhost:8080/",
          "height": 643
        }
      },
      "source": [
        "train_model(second_model, train_dataloader, test_dataloader, optim.SGD(second_model.parameters(), lr=0.001, momentum=0.9), 'VGG', 'SGD')"
      ],
      "execution_count": null,
      "outputs": [
        {
          "output_type": "display_data",
          "data": {
            "image/png": "[encoded data removed]",
            "text/plain": [
              "<Figure size 432x288 with 1 Axes>"
            ]
          },
          "metadata": {
            "tags": [],
            "needs_background": "light"
          }
        },
        {
          "output_type": "display_data",
          "data": {
            "image/png": "[encoded data removed]",
            "text/plain": [
              "<Figure size 432x288 with 1 Axes>"
            ]
          },
          "metadata": {
            "tags": [],
            "needs_background": "light"
          }
        },
        {
          "output_type": "stream",
          "text": [
            "epoch: 50\n",
            "VGG with SGD training done\n",
            "Vall loss: 0.0003187779362806829 \n",
            "Vall accuracy: 0.9856687544420752\n"
          ],
          "name": "stdout"
        }
      ]
    },
    {
      "cell_type": "code",
      "metadata": {
        "id": "Nhbs5V-3_JxJ"
      },
      "source": [
        "second_model = nn.Sequential(\n",
        "    nn.Conv2d(in_channels=1, out_channels=16, kernel_size=3, padding=1),\n",
        "    nn.BatchNorm2d(16),\n",
        "    nn.ReLU(),\n",
        "\n",
        "    nn.MaxPool2d(kernel_size=2, stride=2),\n",
        "    nn.Conv2d(in_channels=16, out_channels=32, kernel_size=3, padding=1),\n",
        "    nn.BatchNorm2d(32),\n",
        "    nn.ReLU(), \n",
        "\n",
        "    nn.MaxPool2d(kernel_size=2, stride=2),\n",
        "    nn.Conv2d(in_channels=32, out_channels=64, kernel_size=3, padding=1),\n",
        "    nn.BatchNorm2d(64),\n",
        "    nn.ReLU(),\n",
        "\n",
        "    nn.MaxPool2d(kernel_size=2, stride=2),\n",
        "    nn.Conv2d(in_channels=64, out_channels=128, kernel_size=3, padding=1),\n",
        "    nn.BatchNorm2d(128),\n",
        "    nn.ReLU(),\n",
        "\n",
        "    nn.Flatten(),\n",
        "\n",
        "    nn.Linear(in_features=1152, out_features=1152),\n",
        "    nn.Dropout(0.5),\n",
        "    nn.ReLU(),\n",
        "    nn.Linear(in_features=1152, out_features=1152),\n",
        "    nn.Dropout(0.5),\n",
        "    nn.ReLU(),\n",
        "    nn.Linear(in_features=1152, out_features=10)\n",
        ")"
      ],
      "execution_count": null,
      "outputs": []
    },
    {
      "cell_type": "code",
      "metadata": {
        "id": "dGz2KJCw_PCY",
        "outputId": "d6720f8c-ac31-487f-86fb-feee228c0d89",
        "colab": {
          "base_uri": "https://localhost:8080/"
        }
      },
      "source": [
        "second_model.to('cuda:0')"
      ],
      "execution_count": null,
      "outputs": [
        {
          "output_type": "execute_result",
          "data": {
            "text/plain": [
              "Sequential(\n",
              "  (0): Conv2d(1, 16, kernel_size=(3, 3), stride=(1, 1), padding=(1, 1))\n",
              "  (1): BatchNorm2d(16, eps=1e-05, momentum=0.1, affine=True, track_running_stats=True)\n",
              "  (2): ReLU()\n",
              "  (3): MaxPool2d(kernel_size=2, stride=2, padding=0, dilation=1, ceil_mode=False)\n",
              "  (4): Conv2d(16, 32, kernel_size=(3, 3), stride=(1, 1), padding=(1, 1))\n",
              "  (5): BatchNorm2d(32, eps=1e-05, momentum=0.1, affine=True, track_running_stats=True)\n",
              "  (6): ReLU()\n",
              "  (7): MaxPool2d(kernel_size=2, stride=2, padding=0, dilation=1, ceil_mode=False)\n",
              "  (8): Conv2d(32, 64, kernel_size=(3, 3), stride=(1, 1), padding=(1, 1))\n",
              "  (9): BatchNorm2d(64, eps=1e-05, momentum=0.1, affine=True, track_running_stats=True)\n",
              "  (10): ReLU()\n",
              "  (11): MaxPool2d(kernel_size=2, stride=2, padding=0, dilation=1, ceil_mode=False)\n",
              "  (12): Conv2d(64, 128, kernel_size=(3, 3), stride=(1, 1), padding=(1, 1))\n",
              "  (13): BatchNorm2d(128, eps=1e-05, momentum=0.1, affine=True, track_running_stats=True)\n",
              "  (14): ReLU()\n",
              "  (15): Flatten()\n",
              "  (16): Linear(in_features=1152, out_features=1152, bias=True)\n",
              "  (17): Dropout(p=0.5, inplace=False)\n",
              "  (18): ReLU()\n",
              "  (19): Linear(in_features=1152, out_features=1152, bias=True)\n",
              "  (20): Dropout(p=0.5, inplace=False)\n",
              "  (21): ReLU()\n",
              "  (22): Linear(in_features=1152, out_features=10, bias=True)\n",
              ")"
            ]
          },
          "metadata": {
            "tags": []
          },
          "execution_count": 21
        }
      ]
    },
    {
      "cell_type": "code",
      "metadata": {
        "id": "gnR_eBkJjvQE",
        "outputId": "20ecc19a-6062-43a0-9f60-404d3157607f",
        "colab": {
          "base_uri": "https://localhost:8080/",
          "height": 643
        }
      },
      "source": [
        "train_model(second_model, train_dataloader, test_dataloader,optim.RMSprop(second_model.parameters(), lr=0.001, momentum=0.9, eps=1e-6), \n",
        "            'VGG', 'RMSprop')"
      ],
      "execution_count": null,
      "outputs": [
        {
          "output_type": "display_data",
          "data": {
            "image/png": "[encoded data removed]",
            "text/plain": [
              "<Figure size 432x288 with 1 Axes>"
            ]
          },
          "metadata": {
            "tags": [],
            "needs_background": "light"
          }
        },
        {
          "output_type": "display_data",
          "data": {
            "image/png": "[encoded data removed]",
            "text/plain": [
              "<Figure size 432x288 with 1 Axes>"
            ]
          },
          "metadata": {
            "tags": [],
            "needs_background": "light"
          }
        },
        {
          "output_type": "stream",
          "text": [
            "epoch: 50\n",
            "VGG with RMSprop training done\n",
            "Vall loss: 0.001790248134915466 \n",
            "Vall accuracy: 0.9220748933901919\n"
          ],
          "name": "stdout"
        }
      ]
    },
    {
      "cell_type": "markdown",
      "metadata": {
        "id": "nHHnXX74qxpe"
      },
      "source": [
        "#### Комментарии\n",
        "\n",
        "С учетом опыта использования ResNet, VGG была сделана относительно неглубокой - всего 3 блока. Оба оптимизатора показали высокую точность, однако точность SGD дошла до 1 на по многим батчам тренировочной выборки, а его точность на валидации была значительно больше точности RMSProp"
      ]
    },
    {
      "cell_type": "markdown",
      "metadata": {
        "id": "8a06AQ95o5dI"
      },
      "source": [
        "### Обучение Xception\n"
      ]
    },
    {
      "cell_type": "code",
      "metadata": {
        "id": "TDy87Elva8gl",
        "outputId": "39809649-4502-4ce7-afdb-17c5cef84a5c",
        "colab": {
          "base_uri": "https://localhost:8080/",
          "height": 643
        }
      },
      "source": [
        "train_model(third_model, train_dataloader, test_dataloader, optim.SGD(third_model.parameters(), lr=0.001, momentum=0.9, weight_decay=1e-5), \n",
        "            'Xception', 'SGD')"
      ],
      "execution_count": null,
      "outputs": [
        {
          "output_type": "display_data",
          "data": {
            "image/png": "[encoded data removed]",
            "text/plain": [
              "<Figure size 432x288 with 1 Axes>"
            ]
          },
          "metadata": {
            "tags": [],
            "needs_background": "light"
          }
        },
        {
          "output_type": "display_data",
          "data": {
            "image/png": "[encoded data removed]",
            "text/plain": [
              "<Figure size 432x288 with 1 Axes>"
            ]
          },
          "metadata": {
            "tags": [],
            "needs_background": "light"
          }
        },
        {
          "output_type": "stream",
          "text": [
            "epoch: 50\n",
            "Xception with SGD training done\n",
            "Vall loss: 0.011993457818722887 \n",
            "Vall accuracy: 0.9317863805970149\n"
          ],
          "name": "stdout"
        }
      ]
    },
    {
      "cell_type": "code",
      "metadata": {
        "id": "3flZjnA8_TOp",
        "outputId": "da00dd25-fe25-48e3-a274-ddea119aadf9",
        "colab": {
          "base_uri": "https://localhost:8080/"
        }
      },
      "source": [
        "third_model = ThirdModel()\n",
        "third_model.to('cuda:0')"
      ],
      "execution_count": null,
      "outputs": [
        {
          "output_type": "execute_result",
          "data": {
            "text/plain": [
              "ThirdModel(\n",
              "  (layers): ModuleDict(\n",
              "    (128): Sequential(\n",
              "      (0): Conv2d(64, 128, kernel_size=(1, 1), stride=(1, 1))\n",
              "      (1): BatchNorm2d(128, eps=1e-05, momentum=0.1, affine=True, track_running_stats=True)\n",
              "    )\n",
              "    (64): Sequential(\n",
              "      (0): Conv2d(32, 64, kernel_size=(1, 1), stride=(2, 2))\n",
              "      (1): BatchNorm2d(64, eps=1e-05, momentum=0.1, affine=True, track_running_stats=True)\n",
              "    )\n",
              "    (block): Sequential(\n",
              "      (0): ReLU()\n",
              "      (1): Conv2d(128, 128, kernel_size=(1, 1), stride=(1, 1))\n",
              "      (2): BatchNorm2d(128, eps=1e-05, momentum=0.1, affine=True, track_running_stats=True)\n",
              "      (3): Conv2d(128, 128, kernel_size=(3, 3), stride=(1, 1), padding=(1, 1), groups=128)\n",
              "      (4): BatchNorm2d(128, eps=1e-05, momentum=0.1, affine=True, track_running_stats=True)\n",
              "      (5): ReLU()\n",
              "      (6): Conv2d(128, 128, kernel_size=(1, 1), stride=(1, 1))\n",
              "      (7): BatchNorm2d(128, eps=1e-05, momentum=0.1, affine=True, track_running_stats=True)\n",
              "      (8): Conv2d(128, 128, kernel_size=(3, 3), stride=(1, 1), padding=(1, 1), groups=128)\n",
              "      (9): BatchNorm2d(128, eps=1e-05, momentum=0.1, affine=True, track_running_stats=True)\n",
              "      (10): ReLU()\n",
              "      (11): Conv2d(128, 128, kernel_size=(1, 1), stride=(1, 1))\n",
              "      (12): BatchNorm2d(128, eps=1e-05, momentum=0.1, affine=True, track_running_stats=True)\n",
              "      (13): Conv2d(128, 128, kernel_size=(3, 3), stride=(1, 1), padding=(1, 1), groups=128)\n",
              "      (14): BatchNorm2d(128, eps=1e-05, momentum=0.1, affine=True, track_running_stats=True)\n",
              "    )\n",
              "    (block_128): Sequential(\n",
              "      (0): ReLU()\n",
              "      (1): Conv2d(64, 128, kernel_size=(1, 1), stride=(1, 1))\n",
              "      (2): BatchNorm2d(128, eps=1e-05, momentum=0.1, affine=True, track_running_stats=True)\n",
              "      (3): Conv2d(128, 128, kernel_size=(3, 3), stride=(1, 1), padding=(1, 1), groups=128)\n",
              "      (4): BatchNorm2d(128, eps=1e-05, momentum=0.1, affine=True, track_running_stats=True)\n",
              "      (5): ReLU()\n",
              "      (6): Conv2d(128, 128, kernel_size=(1, 1), stride=(1, 1))\n",
              "      (7): BatchNorm2d(128, eps=1e-05, momentum=0.1, affine=True, track_running_stats=True)\n",
              "      (8): Conv2d(128, 128, kernel_size=(3, 3), stride=(1, 1), padding=(1, 1), groups=128)\n",
              "      (9): BatchNorm2d(128, eps=1e-05, momentum=0.1, affine=True, track_running_stats=True)\n",
              "    )\n",
              "    (block_64): Sequential(\n",
              "      (0): Conv2d(32, 64, kernel_size=(1, 1), stride=(1, 1))\n",
              "      (1): BatchNorm2d(64, eps=1e-05, momentum=0.1, affine=True, track_running_stats=True)\n",
              "      (2): Conv2d(64, 64, kernel_size=(3, 3), stride=(1, 1), padding=(1, 1), groups=64)\n",
              "      (3): BatchNorm2d(64, eps=1e-05, momentum=0.1, affine=True, track_running_stats=True)\n",
              "      (4): ReLU()\n",
              "      (5): Conv2d(64, 64, kernel_size=(1, 1), stride=(1, 1))\n",
              "      (6): BatchNorm2d(64, eps=1e-05, momentum=0.1, affine=True, track_running_stats=True)\n",
              "      (7): Conv2d(64, 64, kernel_size=(3, 3), stride=(1, 1), padding=(1, 1), groups=64)\n",
              "      (8): BatchNorm2d(64, eps=1e-05, momentum=0.1, affine=True, track_running_stats=True)\n",
              "      (9): MaxPool2d(kernel_size=2, stride=2, padding=0, dilation=1, ceil_mode=False)\n",
              "    )\n",
              "    (dropout): Dropout(p=0.5, inplace=False)\n",
              "    (logreg): Sequential(\n",
              "      (0): Linear(in_features=128, out_features=10, bias=True)\n",
              "      (1): Softmax(dim=None)\n",
              "    )\n",
              "    (pool): Sequential(\n",
              "      (0): AvgPool2d(kernel_size=13, stride=13, padding=0)\n",
              "      (1): Flatten()\n",
              "    )\n",
              "    (relu): ReLU()\n",
              "    (second): Sequential(\n",
              "      (0): Conv2d(16, 32, kernel_size=(3, 3), stride=(1, 1))\n",
              "      (1): BatchNorm2d(32, eps=1e-05, momentum=0.1, affine=True, track_running_stats=True)\n",
              "    )\n",
              "    (start): Sequential(\n",
              "      (0): Conv2d(1, 16, kernel_size=(3, 3), stride=(1, 1), padding=(1, 1))\n",
              "      (1): BatchNorm2d(16, eps=1e-05, momentum=0.1, affine=True, track_running_stats=True)\n",
              "    )\n",
              "  )\n",
              ")"
            ]
          },
          "metadata": {
            "tags": []
          },
          "execution_count": 15
        }
      ]
    },
    {
      "cell_type": "code",
      "metadata": {
        "id": "G4El4Tsbj2JG",
        "outputId": "ec57a8ed-7382-4cc0-89cd-164cc6d12448",
        "colab": {
          "base_uri": "https://localhost:8080/",
          "height": 643
        }
      },
      "source": [
        "train_model(third_model, train_dataloader, test_dataloader, optim.RMSprop(third_model.parameters(), lr=0.001, eps=1e-4), \n",
        "            'Xception', 'RMSprop')"
      ],
      "execution_count": null,
      "outputs": [
        {
          "output_type": "display_data",
          "data": {
            "image/png": "[encoded data removed]",
            "text/plain": [
              "<Figure size 432x288 with 1 Axes>"
            ]
          },
          "metadata": {
            "tags": [],
            "needs_background": "light"
          }
        },
        {
          "output_type": "display_data",
          "data": {
            "image/png": "[encoded data removed]",
            "text/plain": [
              "<Figure size 432x288 with 1 Axes>"
            ]
          },
          "metadata": {
            "tags": [],
            "needs_background": "light"
          }
        },
        {
          "output_type": "stream",
          "text": [
            "epoch: 50\n",
            "Xception with RMSprop training done\n",
            "Vall loss: 0.01166175475493656 \n",
            "Vall accuracy: 0.9698882818052594\n"
          ],
          "name": "stdout"
        }
      ]
    },
    {
      "cell_type": "markdown",
      "metadata": {
        "id": "fJS7mF-fsAxy"
      },
      "source": [
        "#### Комментарии\n",
        "\n",
        "Xception обучился очень плохо на SGD и совсем не обучился на RMSProp. Возможно, dropout помог бы писал я и вспомнил, что еще есть batchnorm, которого тогда в модели не было. Если без batchnorm точность после обучения Xception на SGD составляла около 69%, а на RMSProp обучение не происходило вообще, то после добавления нормализации точность на обоих оптимизаторах значительно выросла и стала сопоставимой с точностью VGG. "
      ]
    },
    {
      "cell_type": "markdown",
      "metadata": {
        "id": "BYHBtK1jA4Ai"
      },
      "source": [
        "### Общие комментарии\n",
        "\n",
        "Модель ResNet на 20+ слоев оказалась слишком сложной для FashionMnist при обучении SGD и переобучилась. Лучшие результаты показал VGG с оптимизатором SGD, следующим по успешности был Xception с оптимизатором RMSProp. При этом кажется, что VGG достиг своего максимума, а Xception мог бы улучшить качество при уменьшении learning rate "
      ]
    }
  ]
}