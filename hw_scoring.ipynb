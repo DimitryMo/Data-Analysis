{
 "cells": [
  {
   "cell_type": "code",
   "execution_count": 309,
   "metadata": {},
   "outputs": [],
   "source": [
    "import pandas as pd\n",
    "import matplotlib.pyplot as plt\n",
    "import numpy as np"
   ]
  },
  {
   "cell_type": "code",
   "execution_count": 310,
   "metadata": {},
   "outputs": [],
   "source": [
    "df = pd.read_csv('12_accept.csv')"
   ]
  },
  {
   "cell_type": "code",
   "execution_count": 311,
   "metadata": {},
   "outputs": [
    {
     "name": "stdout",
     "output_type": "stream",
     "text": [
      "Доля значений 1 в выборке accept: 2.19%\n"
     ]
    }
   ],
   "source": [
    "share_1 = (df['target'] == 1).sum()/(df['target']==0).sum() * 100\n",
    "print(f'Доля значений 1 в выборке accept: {share_1:.3}%')"
   ]
  },
  {
   "cell_type": "markdown",
   "metadata": {},
   "source": [
    "### EDA"
   ]
  },
  {
   "cell_type": "code",
   "execution_count": 312,
   "metadata": {},
   "outputs": [],
   "source": [
    "df.drop('UID', axis=1, inplace=True)"
   ]
  },
  {
   "cell_type": "code",
   "execution_count": 313,
   "metadata": {},
   "outputs": [],
   "source": [
    "cat = ['INCOME_TYPE', 'EDUCATION_', 'CUSTOMER_CATEGORY_', 'IS_EMPL']"
   ]
  },
  {
   "cell_type": "code",
   "execution_count": 314,
   "metadata": {},
   "outputs": [],
   "source": [
    "num = ['income', 'COUNT_ACTIVE_CREDIT_NO_CC', 'CNT_MNTH_FROM_LAST_PMNT', 'age', 'experience', 'count_mnth_act_passport',\n",
    "      'DEPENDANT_NUMBER', 'inquiry_14_day', 'inquiry_21_day']"
   ]
  },
  {
   "cell_type": "code",
   "execution_count": 315,
   "metadata": {},
   "outputs": [],
   "source": [
    "df_means = pd.DataFrame()\n",
    "for col in num:\n",
    "    median = np.round(df[col].median(), 2)\n",
    "    mean = np.round(df[col].mean(), 2)\n",
    "    nans = df[col].isna().sum()\n",
    "    var = df[col].var()\n",
    "    df_means = df_means.append([[col, median, mean, nans, var]])\n",
    "df_means.columns = ['var_name', 'median', 'mean', 'nan_count', 'var']\n",
    "df_means.reset_index(drop=True, inplace=True)"
   ]
  },
  {
   "cell_type": "code",
   "execution_count": 316,
   "metadata": {},
   "outputs": [
    {
     "data": {
      "text/html": [
       "<div>\n",
       "<style scoped>\n",
       "    .dataframe tbody tr th:only-of-type {\n",
       "        vertical-align: middle;\n",
       "    }\n",
       "\n",
       "    .dataframe tbody tr th {\n",
       "        vertical-align: top;\n",
       "    }\n",
       "\n",
       "    .dataframe thead th {\n",
       "        text-align: right;\n",
       "    }\n",
       "</style>\n",
       "<table border=\"1\" class=\"dataframe\">\n",
       "  <thead>\n",
       "    <tr style=\"text-align: right;\">\n",
       "      <th></th>\n",
       "      <th>var_name</th>\n",
       "      <th>median</th>\n",
       "      <th>mean</th>\n",
       "      <th>nan_count</th>\n",
       "      <th>var</th>\n",
       "    </tr>\n",
       "  </thead>\n",
       "  <tbody>\n",
       "    <tr>\n",
       "      <td>0</td>\n",
       "      <td>income</td>\n",
       "      <td>41412.00</td>\n",
       "      <td>61565.71</td>\n",
       "      <td>659</td>\n",
       "      <td>1.105261e+10</td>\n",
       "    </tr>\n",
       "    <tr>\n",
       "      <td>1</td>\n",
       "      <td>COUNT_ACTIVE_CREDIT_NO_CC</td>\n",
       "      <td>0.00</td>\n",
       "      <td>0.66</td>\n",
       "      <td>8313</td>\n",
       "      <td>6.768854e-01</td>\n",
       "    </tr>\n",
       "    <tr>\n",
       "      <td>2</td>\n",
       "      <td>CNT_MNTH_FROM_LAST_PMNT</td>\n",
       "      <td>0.93</td>\n",
       "      <td>18.74</td>\n",
       "      <td>10077</td>\n",
       "      <td>1.763151e+04</td>\n",
       "    </tr>\n",
       "    <tr>\n",
       "      <td>3</td>\n",
       "      <td>age</td>\n",
       "      <td>34.78</td>\n",
       "      <td>36.49</td>\n",
       "      <td>0</td>\n",
       "      <td>6.745987e+01</td>\n",
       "    </tr>\n",
       "    <tr>\n",
       "      <td>4</td>\n",
       "      <td>experience</td>\n",
       "      <td>3.29</td>\n",
       "      <td>4.94</td>\n",
       "      <td>41</td>\n",
       "      <td>2.840619e+01</td>\n",
       "    </tr>\n",
       "    <tr>\n",
       "      <td>5</td>\n",
       "      <td>count_mnth_act_passport</td>\n",
       "      <td>7.76</td>\n",
       "      <td>7.22</td>\n",
       "      <td>0</td>\n",
       "      <td>1.117284e+01</td>\n",
       "    </tr>\n",
       "    <tr>\n",
       "      <td>6</td>\n",
       "      <td>DEPENDANT_NUMBER</td>\n",
       "      <td>0.00</td>\n",
       "      <td>0.01</td>\n",
       "      <td>33</td>\n",
       "      <td>1.095505e-02</td>\n",
       "    </tr>\n",
       "    <tr>\n",
       "      <td>7</td>\n",
       "      <td>inquiry_14_day</td>\n",
       "      <td>0.00</td>\n",
       "      <td>0.36</td>\n",
       "      <td>9126</td>\n",
       "      <td>3.684496e-01</td>\n",
       "    </tr>\n",
       "    <tr>\n",
       "      <td>8</td>\n",
       "      <td>inquiry_21_day</td>\n",
       "      <td>0.00</td>\n",
       "      <td>0.42</td>\n",
       "      <td>9126</td>\n",
       "      <td>4.655744e-01</td>\n",
       "    </tr>\n",
       "  </tbody>\n",
       "</table>\n",
       "</div>"
      ],
      "text/plain": [
       "                    var_name    median      mean  nan_count           var\n",
       "0                     income  41412.00  61565.71        659  1.105261e+10\n",
       "1  COUNT_ACTIVE_CREDIT_NO_CC      0.00      0.66       8313  6.768854e-01\n",
       "2    CNT_MNTH_FROM_LAST_PMNT      0.93     18.74      10077  1.763151e+04\n",
       "3                        age     34.78     36.49          0  6.745987e+01\n",
       "4                 experience      3.29      4.94         41  2.840619e+01\n",
       "5    count_mnth_act_passport      7.76      7.22          0  1.117284e+01\n",
       "6           DEPENDANT_NUMBER      0.00      0.01         33  1.095505e-02\n",
       "7             inquiry_14_day      0.00      0.36       9126  3.684496e-01\n",
       "8             inquiry_21_day      0.00      0.42       9126  4.655744e-01"
      ]
     },
     "execution_count": 316,
     "metadata": {},
     "output_type": "execute_result"
    }
   ],
   "source": [
    "df_means"
   ]
  },
  {
   "cell_type": "code",
   "execution_count": 317,
   "metadata": {},
   "outputs": [],
   "source": [
    "df_cat = pd.DataFrame()\n",
    "for col in cat:\n",
    "    mode = df[col].value_counts().index[0]\n",
    "    nans = df[col].isna().sum()\n",
    "    df_cat = df_cat.append([[col, mode, nans]])\n",
    "df_cat.columns = ['var_name', 'mode',  'nan_count']\n",
    "df_cat.reset_index(drop=True, inplace=True)"
   ]
  },
  {
   "cell_type": "code",
   "execution_count": 318,
   "metadata": {},
   "outputs": [
    {
     "data": {
      "text/html": [
       "<div>\n",
       "<style scoped>\n",
       "    .dataframe tbody tr th:only-of-type {\n",
       "        vertical-align: middle;\n",
       "    }\n",
       "\n",
       "    .dataframe tbody tr th {\n",
       "        vertical-align: top;\n",
       "    }\n",
       "\n",
       "    .dataframe thead th {\n",
       "        text-align: right;\n",
       "    }\n",
       "</style>\n",
       "<table border=\"1\" class=\"dataframe\">\n",
       "  <thead>\n",
       "    <tr style=\"text-align: right;\">\n",
       "      <th></th>\n",
       "      <th>var_name</th>\n",
       "      <th>mode</th>\n",
       "      <th>nan_count</th>\n",
       "    </tr>\n",
       "  </thead>\n",
       "  <tbody>\n",
       "    <tr>\n",
       "      <td>0</td>\n",
       "      <td>INCOME_TYPE</td>\n",
       "      <td>OTHER</td>\n",
       "      <td>0</td>\n",
       "    </tr>\n",
       "    <tr>\n",
       "      <td>1</td>\n",
       "      <td>EDUCATION_</td>\n",
       "      <td>elementary</td>\n",
       "      <td>0</td>\n",
       "    </tr>\n",
       "    <tr>\n",
       "      <td>2</td>\n",
       "      <td>CUSTOMER_CATEGORY_</td>\n",
       "      <td>Corporate</td>\n",
       "      <td>19363</td>\n",
       "    </tr>\n",
       "    <tr>\n",
       "      <td>3</td>\n",
       "      <td>IS_EMPL</td>\n",
       "      <td>0</td>\n",
       "      <td>0</td>\n",
       "    </tr>\n",
       "  </tbody>\n",
       "</table>\n",
       "</div>"
      ],
      "text/plain": [
       "             var_name        mode  nan_count\n",
       "0         INCOME_TYPE       OTHER          0\n",
       "1          EDUCATION_  elementary          0\n",
       "2  CUSTOMER_CATEGORY_   Corporate      19363\n",
       "3             IS_EMPL           0          0"
      ]
     },
     "execution_count": 318,
     "metadata": {},
     "output_type": "execute_result"
    }
   ],
   "source": [
    "df_cat"
   ]
  },
  {
   "cell_type": "markdown",
   "metadata": {},
   "source": [
    "### Outliers"
   ]
  },
  {
   "cell_type": "code",
   "execution_count": 319,
   "metadata": {},
   "outputs": [
    {
     "data": {
      "image/png": "[encoded data removed]",
      "text/plain": [
       "<Figure size 432x288 with 1 Axes>"
      ]
     },
     "metadata": {
      "needs_background": "light"
     },
     "output_type": "display_data"
    }
   ],
   "source": [
    "plt.scatter(np.arange(len(df)), df['income'].sort_values())\n",
    "plt.title('Income outliers')\n",
    "plt.ylabel('Income')\n",
    "plt.xlabel('Client')\n",
    "plt.show()"
   ]
  },
  {
   "cell_type": "code",
   "execution_count": 320,
   "metadata": {},
   "outputs": [
    {
     "data": {
      "image/png": "[encoded data removed]",
      "text/plain": [
       "<Figure size 432x288 with 1 Axes>"
      ]
     },
     "metadata": {
      "needs_background": "light"
     },
     "output_type": "display_data"
    }
   ],
   "source": [
    "plt.scatter(np.arange(len(df)), df['experience'].sort_values())\n",
    "plt.title('experience outliers')\n",
    "plt.ylabel('experience')\n",
    "plt.xlabel('Client')\n",
    "plt.show()"
   ]
  },
  {
   "cell_type": "code",
   "execution_count": 321,
   "metadata": {},
   "outputs": [
    {
     "data": {
      "image/png": "[encoded data removed]",
      "text/plain": [
       "<Figure size 432x288 with 1 Axes>"
      ]
     },
     "metadata": {
      "needs_background": "light"
     },
     "output_type": "display_data"
    }
   ],
   "source": [
    "plt.scatter(np.arange(len(df)), df['CNT_MNTH_FROM_LAST_PMNT'].sort_values())\n",
    "plt.title('MNTH_FROM_LAST_PMNT outliers')\n",
    "plt.ylabel('MNTH_FROM_LAST_PMNT')\n",
    "plt.xlabel('Client')\n",
    "plt.show()"
   ]
  },
  {
   "cell_type": "code",
   "execution_count": 322,
   "metadata": {},
   "outputs": [],
   "source": [
    "df.loc[df['income'].nlargest(3).index, 'income'] = df['income'].nlargest(4).values[-1]"
   ]
  },
  {
   "cell_type": "code",
   "execution_count": 323,
   "metadata": {},
   "outputs": [],
   "source": [
    "df.loc[df['experience'].nlargest(1).index, 'experience'] = df['experience'].nlargest(2).values[-1]"
   ]
  },
  {
   "cell_type": "code",
   "execution_count": 324,
   "metadata": {},
   "outputs": [],
   "source": [
    "df.loc[df['CNT_MNTH_FROM_LAST_PMNT'].nlargest(218).index, 'CNT_MNTH_FROM_LAST_PMNT'] = df['CNT_MNTH_FROM_LAST_PMNT'].nlargest(219).values[-1]"
   ]
  },
  {
   "cell_type": "markdown",
   "metadata": {},
   "source": [
    "Для признака CUSTOMER_CATEGORY_ пропущенные значения очевидно означают отсутствие у клиента значения признака corporate/vip, заполним пропущенные значения значением \"Normal\""
   ]
  },
  {
   "cell_type": "code",
   "execution_count": 325,
   "metadata": {},
   "outputs": [],
   "source": [
    "df['CUSTOMER_CATEGORY_'] = df['CUSTOMER_CATEGORY_'].fillna('Normal')"
   ]
  },
  {
   "cell_type": "markdown",
   "metadata": {},
   "source": [
    "### WoE, IV"
   ]
  },
  {
   "cell_type": "code",
   "execution_count": 326,
   "metadata": {},
   "outputs": [],
   "source": [
    "from sklearn.preprocessing import LabelEncoder"
   ]
  },
  {
   "cell_type": "code",
   "execution_count": 327,
   "metadata": {},
   "outputs": [],
   "source": [
    "total_1 = df['target'].sum()\n",
    "total_0 = len(df) - total_1"
   ]
  },
  {
   "cell_type": "code",
   "execution_count": 328,
   "metadata": {},
   "outputs": [],
   "source": [
    "def check_monotonic(arr):\n",
    "    return (all(arr[i] <= arr[i + 1] for i in range(len(arr)-1))\n",
    "            or all(arr[i] >= arr[i + 1] for i in range(len(arr)-1)))"
   ]
  },
  {
   "cell_type": "code",
   "execution_count": 329,
   "metadata": {},
   "outputs": [],
   "source": [
    "def find_bins(df, col, total_1, total_0, force_num=False):\n",
    "    success = False\n",
    "    if force_num:\n",
    "        df[f'{col}_cut'] = pd.cut(df.fillna(0)[col], force_num)\n",
    "        df_gr = df.groupby(f'{col}_cut').agg({'target':['count', 'sum']})\n",
    "        df_gr['woe'] = np.log((df_gr['target']['sum']/total_1)/((df_gr['target']['count'] - df_gr['target']['sum']\n",
    "                                                                )/total_0))        \n",
    "        if check_monotonic(df_gr['woe'].values):\n",
    "            success=True\n",
    "    else:\n",
    "        for n_bins in np.arange(20, 2, -1):\n",
    "            df[f'{col}_cut'] = pd.qcut(df[col], n_bins, duplicates='drop')\n",
    "            df_gr = df.groupby(f'{col}_cut').agg({'target':['count', 'sum']})\n",
    "            df_gr['woe'] = np.log((df_gr['target']['sum']/total_1)/((df_gr['target']['count'] - df_gr['target']['sum']\n",
    "                                                                    )/total_0))        \n",
    "            if check_monotonic(df_gr['woe'].values):\n",
    "                success=True\n",
    "                break\n",
    "    return success, df_gr"
   ]
  },
  {
   "cell_type": "code",
   "execution_count": 330,
   "metadata": {},
   "outputs": [],
   "source": [
    "def cut_df(df, col, total_1, total_0, num_bins, verbose=False):\n",
    "    success=False\n",
    "    df[f'{col}_cut'] = pd.cut(df[col], num_bins).apply(lambda x:x.right)\n",
    "    df_gr = df.groupby(f'{col}_cut').agg({'target':['count', 'sum']})\n",
    "    df_gr['woe'] = np.log((df_gr['target']['sum']/total_1)/((df_gr['target']['count'] - df_gr['target']['sum']\n",
    "                                                            )/total_0))        \n",
    "    if check_monotonic(df_gr['woe'].values):\n",
    "        success=True\n",
    "    if verbose:           \n",
    "        return success, df_gr"
   ]
  },
  {
   "cell_type": "code",
   "execution_count": 331,
   "metadata": {},
   "outputs": [],
   "source": [
    "def qcut_df(df, col, total_1, total_0, num_bins):\n",
    "    success=False\n",
    "    df[f'{col}_cut'] = pd.qcut(df[col], num_bins)\n",
    "    df_gr = df.groupby(f'{col}_cut').agg({'target':['count', 'sum']})\n",
    "    df_gr['woe'] = np.log((df_gr['target']['sum']/total_1)/((df_gr['target']['count'] - df_gr['target']['sum']\n",
    "                                                            )/total_0))        \n",
    "    if check_monotonic(df_gr['woe'].values):\n",
    "        success=True\n",
    "                \n",
    "    return success, df_gr"
   ]
  },
  {
   "cell_type": "code",
   "execution_count": 332,
   "metadata": {},
   "outputs": [],
   "source": [
    "def get_woe(df, col_cut, total_1, total_0):\n",
    "    df_gr = df.groupby(f'{col_cut}').agg({'target':['count', 'sum']})\n",
    "    df_gr['woe'] = np.log((df_gr['target']['sum']/total_1)/((df_gr['target']['count'] - df_gr['target']['sum']\n",
    "                                                            )/total_0))    \n",
    "    return df_gr"
   ]
  },
  {
   "cell_type": "code",
   "execution_count": 333,
   "metadata": {},
   "outputs": [],
   "source": [
    "def iv(df, split_column, total_1, total_0):\n",
    "    df_gr = df.groupby(split_column).agg({'target':['count', 'sum']})\n",
    "    df_gr['good'] =df_gr['target']['count'] - df_gr['target']['sum']\n",
    "    df_gr['bad'] = df_gr['target']['sum']\n",
    "    df_gr['woe'] = np.log((df_gr['bad']/total_1)/(df_gr['good']/total_0)) \n",
    "    iv = 0\n",
    "    return ((df_gr['bad']/total_1-df_gr['good']/total_0) * df_gr['woe']).sum()"
   ]
  },
  {
   "cell_type": "code",
   "execution_count": 334,
   "metadata": {},
   "outputs": [],
   "source": [
    "#bins for income + NaN group\n",
    "bins_income = [-0.001,\n",
    "        18949.2,\n",
    " 24786.8,\n",
    " 29885.2,\n",
    " 41412.0,\n",
    " 60133.2,\n",
    " 120000.0,\n",
    " 1784679.0]\n",
    "\n",
    "#experience: quantile split with 7 groups + NaN group\n",
    "#DEPENDANT_NUMBER: group for 0, group for all else, group for nans\n",
    "#INCOME_TYPE: OK groups by value\n",
    "#EDUCATION_: reorder: beginner, elementary, advanced, high\n",
    "#CUSTOMER_CATEGORY_: reorder: Corporate + VIP, normal\n",
    "#IS_EMPL: 2 values already\n",
    "\n",
    "#bins for age\n",
    "bins_age = [24.999,\n",
    " 27.781,\n",
    " 29.568,\n",
    " 31.449,\n",
    " 33.622,\n",
    " 34.783,\n",
    " #40.553,\n",
    " 44.373,\n",
    " 58.938]\n",
    "\n",
    "#bins for COUNT_ACTIVE_CREDIT_NO_CC - можно позволить сделать группы большего размера без потери информации\n",
    "bins_active = [-0.1,\n",
    "              0.9,\n",
    "              1.9,\n",
    "              8]\n",
    "\n",
    "#CNT_MNTH_FROM_LAST_PMNT - работает разбивкой на 5 квантилей, но дает странные результаты (чем больше, тем меньше дефолтов)\n",
    "#inquiry_14_day - две группы, 0 и все остальное + для nan \n",
    "#inquiry_21_day - имеет смысл на 3: 0, 1 и все остальное + для nan\n",
    "\n",
    "#bins for passport - не очень монотонно, но лучше не получится\n",
    "bins_pas = [-0.1,\n",
    " 1.998,\n",
    " 3.126,\n",
    " 4.139,\n",
    " 6.03,\n",
    " 6.618,\n",
    " 7.758,\n",
    " 9.559,\n",
    " 10.23,\n",
    " 15.806]"
   ]
  },
  {
   "cell_type": "code",
   "execution_count": 335,
   "metadata": {},
   "outputs": [],
   "source": [
    "encoder = LabelEncoder()"
   ]
  },
  {
   "cell_type": "code",
   "execution_count": 336,
   "metadata": {},
   "outputs": [],
   "source": [
    "def cut_df_train(df):\n",
    "    df['income_cut'] = pd.cut(df['income'], bins_income).apply(lambda x:x.right).astype(int)\n",
    "    df['income_cut'].fillna('No', inplace=True)\n",
    "    df['income_cut'] = encoder.fit_transform(df['income_cut'])\n",
    "    df['income_cut'] = df['income_cut'].replace([0,1,2,3,4,5,6,7], [0,7,6,4,3,1,2,5])\n",
    "\n",
    "    df['EDUCATION_cut'] = df['EDUCATION_'].replace(['elementary', 'beginner', 'advanced', 'high'],\n",
    "                                                   [1, 0, 2, 3])\n",
    "\n",
    "    df['INCOME_TYPE_cut'] = df['INCOME_TYPE'].replace(['OTHER', '2NDFL'], [0,1])\n",
    "\n",
    "    df['CUSTOMER_CATEGORY_cut'] = df['CUSTOMER_CATEGORY_'].replace(['Normal', 'Corporate', 'VIP'], [0,1,1])\n",
    "\n",
    "    df['DEPENDANT_NUMBER_cut'] =  (df['DEPENDANT_NUMBER'] == 0).astype(int) + df['DEPENDANT_NUMBER'].isna().astype(int) * 2\n",
    "\n",
    "    df['IS_EMPL_cut'] = df['IS_EMPL']\n",
    "\n",
    "    df['COUNT_ACTIVE_CREDIT_NO_CC_cut'] = pd.cut(df['COUNT_ACTIVE_CREDIT_NO_CC'], bins_active).apply(lambda x:x.right).astype(int)\n",
    "    df['COUNT_ACTIVE_CREDIT_NO_CC_cut'].fillna('No', inplace=True)\n",
    "    df['COUNT_ACTIVE_CREDIT_NO_CC_cut'] = encoder.fit_transform(df['COUNT_ACTIVE_CREDIT_NO_CC_cut'])\n",
    "    df['COUNT_ACTIVE_CREDIT_NO_CC_cut'] = df['COUNT_ACTIVE_CREDIT_NO_CC_cut'].replace([0,1,2,3], [2,0,1,3])\n",
    "\n",
    "    df['CNT_MNTH_FROM_LAST_PMNT_cut'] = pd.qcut(df['CNT_MNTH_FROM_LAST_PMNT'], 5).apply(lambda x:x.right).astype(str)\n",
    "    bins_cnt = [df['CNT_MNTH_FROM_LAST_PMNT'].min() - 1]\n",
    "    for bin_ in df['CNT_MNTH_FROM_LAST_PMNT_cut'].unique():\n",
    "        bins_cnt.append(bin_)\n",
    "    df['CNT_MNTH_FROM_LAST_PMNT_cut'].fillna('No', inplace=True)\n",
    "    df['CNT_MNTH_FROM_LAST_PMNT_cut'] = encoder.fit_transform(df['CNT_MNTH_FROM_LAST_PMNT_cut'])\n",
    "\n",
    "    df['age_cut'] = pd.cut(df['age'], bins_age).apply(lambda x:x.right).astype(int)\n",
    "    df['age_cut'].fillna('No', inplace=True)\n",
    "    df['age_cut'] = encoder.fit_transform(df['age_cut'])\n",
    "    df['age_cut'] = df['age_cut'].replace([0,1,2,3,4,5,6], [1,3,5,6,4,2,0])\n",
    "\n",
    "    df['experience_cut'] = pd.qcut(df['experience'], 7).apply(lambda x:x.right).astype(str)\n",
    "    bins_exp = [-0.1]\n",
    "    for bin_ in df['experience_cut'].unique():\n",
    "        bins_exp.append(bin_)\n",
    "    df['experience_cut'].fillna('No', inplace=True)\n",
    "    df['experience_cut'] = encoder.fit_transform(df['experience_cut'])\n",
    "\n",
    "    df['inquiry_14_day_cut'] = ((df['inquiry_14_day'] > 0) & \n",
    "                                (df['inquiry_14_day'].notna()))*2 + df['inquiry_14_day'].isna()*1\n",
    "\n",
    "    df['inquiry_21_day_cut'] = (df['inquiry_21_day'] == 1) * 1 + (df['inquiry_21_day'] > 1) * 3 + df['inquiry_21_day'].isna()*2\n",
    "\n",
    "    df['count_mnth_act_passport_cut'] = pd.cut(df['count_mnth_act_passport'], bins_pas).apply(lambda x:x.right).astype(int)\n",
    "    df['count_mnth_act_passport_cut'].fillna('No', inplace=True)\n",
    "    df['count_mnth_act_passport_cut']= encoder.fit_transform(df['count_mnth_act_passport_cut'])\n",
    "    df['count_mnth_act_passport_cut'] = df['count_mnth_act_passport_cut'].replace([0,1,2,3,4,5,6,7], [0,1,2,3,6,7,5,4])\n",
    "    \n",
    "    for col in df.columns:\n",
    "        if '_cut' in col:\n",
    "            df_gr = get_woe(df, col, total_1, total_0)\n",
    "            df[f'{col}_woe'] = df[col].replace(sorted(df[col].unique()), df_gr['woe'].values)\n",
    "            \n",
    "    return [df, np.array(bins_exp), np.array(bins_cnt)]"
   ]
  },
  {
   "cell_type": "code",
   "execution_count": 337,
   "metadata": {},
   "outputs": [],
   "source": [
    "def cut_df_test(df, df_train):\n",
    "    df['income_cut'] = pd.cut(df['income'], bins_income).apply(lambda x:x.right).astype(int)\n",
    "    df['income_cut'].fillna('No', inplace=True)\n",
    "    df['income_cut'] = encoder.fit_transform(df['income_cut'])\n",
    "    df['income_cut'] = df['income_cut'].replace([0,1,2,3,4,5,6,7], [0,7,6,4,3,1,2,5])\n",
    "\n",
    "    df['EDUCATION_cut'] = df['EDUCATION_'].replace(['elementary', 'beginner', 'advanced', 'high'],\n",
    "                                                   [1, 0, 2, 3])\n",
    "\n",
    "    df['INCOME_TYPE_cut'] = df['INCOME_TYPE'].replace(['OTHER', '2NDFL'], [0,1])\n",
    "\n",
    "    df['CUSTOMER_CATEGORY_cut'] = df['CUSTOMER_CATEGORY_'].replace(['Normal', 'Corporate', 'VIP'], [0,1,1])\n",
    "\n",
    "    df['DEPENDANT_NUMBER_cut'] =  (df['DEPENDANT_NUMBER'] == 0).astype(int) + df['DEPENDANT_NUMBER'].isna().astype(int) * 2\n",
    "\n",
    "    df['IS_EMPL_cut'] = df['IS_EMPL']\n",
    "\n",
    "    df['COUNT_ACTIVE_CREDIT_NO_CC_cut'] = pd.cut(df['COUNT_ACTIVE_CREDIT_NO_CC'], bins_active).apply(lambda x:x.right).astype(int)\n",
    "    df['COUNT_ACTIVE_CREDIT_NO_CC_cut'].fillna('No', inplace=True)\n",
    "    df['COUNT_ACTIVE_CREDIT_NO_CC_cut'] = encoder.fit_transform(df['COUNT_ACTIVE_CREDIT_NO_CC_cut'])\n",
    "    df['COUNT_ACTIVE_CREDIT_NO_CC_cut'] = df['COUNT_ACTIVE_CREDIT_NO_CC_cut'].replace([0,1,2,3], [2,0,1,3])\n",
    "\n",
    "    df['CNT_MNTH_FROM_LAST_PMNT_cut'] = pd.cut(df['CNT_MNTH_FROM_LAST_PMNT'], bins_cnt).apply(lambda x:x.right).astype(str)\n",
    "    df['CNT_MNTH_FROM_LAST_PMNT_cut'].fillna('No', inplace=True)\n",
    "    df['CNT_MNTH_FROM_LAST_PMNT_cut'] = encoder.fit_transform(df['CNT_MNTH_FROM_LAST_PMNT_cut'])\n",
    "\n",
    "    df['age_cut'] = pd.cut(df['age'], bins_age).apply(lambda x:x.right).astype(int)\n",
    "    df['age_cut'].fillna('No', inplace=True)\n",
    "    df['age_cut'] = encoder.fit_transform(df['age_cut'])\n",
    "    df['age_cut'] = df['age_cut'].replace([0,1,2,3,4,5,6], [1,3,5,6,4,2,0])\n",
    "\n",
    "    df['experience_cut'] = pd.cut(df['experience'], bins_exp).apply(lambda x:x.right).astype(int)\n",
    "    df['experience_cut'].fillna('No', inplace=True)\n",
    "    df['experience_cut'] = encoder.fit_transform(df['experience_cut'])\n",
    "\n",
    "    df['inquiry_14_day_cut'] = ((df['inquiry_14_day'] > 0) & \n",
    "                                (df['inquiry_14_day'].notna()))*2 + df['inquiry_14_day'].isna()*1\n",
    "\n",
    "    df['inquiry_21_day_cut'] = (df['inquiry_21_day'] == 1) * 1 + (df['inquiry_21_day'] > 1) * 3 + df['inquiry_21_day'].isna()*2\n",
    "\n",
    "    df['count_mnth_act_passport_cut'] = pd.cut(df['count_mnth_act_passport'], bins_pas).apply(lambda x:x.right).astype(int)\n",
    "    df['count_mnth_act_passport_cut'].fillna('No', inplace=True)\n",
    "    df['count_mnth_act_passport_cut']= encoder.fit_transform(df['count_mnth_act_passport_cut'])\n",
    "    df['count_mnth_act_passport_cut'] = df['count_mnth_act_passport_cut'].replace([0,1,2,3,4,5,6,7], [0,1,2,3,6,7,5,4])\n",
    "    \n",
    "    for col in df.columns:\n",
    "        if '_cut' in col:\n",
    "            df_gr = get_woe(df_train, col, total_1, total_0)\n",
    "            df[f'{col}_woe'] = df[col].replace(sorted(df[col].unique()), df_gr['woe'].loc[sorted(df[col].unique())].values)\n",
    "            \n",
    "    return df"
   ]
  },
  {
   "cell_type": "code",
   "execution_count": 338,
   "metadata": {},
   "outputs": [],
   "source": [
    "df_1 = df"
   ]
  },
  {
   "cell_type": "code",
   "execution_count": 339,
   "metadata": {},
   "outputs": [],
   "source": [
    "df, bins_exp, bins_cnt = cut_df_train(df)"
   ]
  },
  {
   "cell_type": "code",
   "execution_count": 340,
   "metadata": {},
   "outputs": [],
   "source": [
    "bins_exp = sorted(bins_exp[bins_exp != 'nan'].astype(float))"
   ]
  },
  {
   "cell_type": "code",
   "execution_count": 341,
   "metadata": {},
   "outputs": [],
   "source": [
    "bins_cnt =sorted(bins_cnt[bins_cnt != 'nan'].astype(float))"
   ]
  },
  {
   "cell_type": "code",
   "execution_count": 342,
   "metadata": {},
   "outputs": [],
   "source": [
    "ivs = []\n",
    "for col in df.columns:\n",
    "    if '_cut' in col:\n",
    "        ivs.append((col, iv(df, col, total_1, total_0)))"
   ]
  },
  {
   "cell_type": "code",
   "execution_count": 343,
   "metadata": {},
   "outputs": [
    {
     "name": "stdout",
     "output_type": "stream",
     "text": [
      "                               Column        IV\n",
      "0                          income_cut  0.113315\n",
      "1                       EDUCATION_cut  0.040317\n",
      "2                     INCOME_TYPE_cut  0.008610\n",
      "3               CUSTOMER_CATEGORY_cut  0.527688\n",
      "4                DEPENDANT_NUMBER_cut  0.336817\n",
      "5                         IS_EMPL_cut  0.795765\n",
      "6       COUNT_ACTIVE_CREDIT_NO_CC_cut  0.108360\n",
      "7         CNT_MNTH_FROM_LAST_PMNT_cut  0.140995\n",
      "8                             age_cut  0.023668\n",
      "9                      experience_cut  0.401254\n",
      "10                 inquiry_14_day_cut  0.123944\n",
      "11                 inquiry_21_day_cut  0.169317\n",
      "12        count_mnth_act_passport_cut  0.064875\n",
      "13                     income_cut_woe  0.113315\n",
      "14                  EDUCATION_cut_woe  0.040317\n",
      "15                INCOME_TYPE_cut_woe  0.008610\n",
      "16          CUSTOMER_CATEGORY_cut_woe  0.527688\n",
      "17           DEPENDANT_NUMBER_cut_woe  0.336817\n",
      "18                    IS_EMPL_cut_woe  0.795765\n",
      "19  COUNT_ACTIVE_CREDIT_NO_CC_cut_woe  0.108360\n",
      "20    CNT_MNTH_FROM_LAST_PMNT_cut_woe  0.140995\n",
      "21                        age_cut_woe  0.023668\n",
      "22                 experience_cut_woe  0.401254\n",
      "23             inquiry_14_day_cut_woe  0.123944\n",
      "24             inquiry_21_day_cut_woe  0.169317\n",
      "25    count_mnth_act_passport_cut_woe  0.064875\n"
     ]
    }
   ],
   "source": [
    "print(pd.DataFrame(ivs, columns=['Column', 'IV']))"
   ]
  },
  {
   "cell_type": "markdown",
   "metadata": {},
   "source": [
    "### Models"
   ]
  },
  {
   "cell_type": "code",
   "execution_count": 344,
   "metadata": {},
   "outputs": [],
   "source": [
    "from sklearn.linear_model import LogisticRegression\n",
    "from sklearn.decomposition import PCA\n",
    "from sklearn.ensemble import RandomForestClassifier\n",
    "from sklearn.metrics import plot_roc_curve, roc_auc_score, plot_confusion_matrix, f1_score\n",
    "from sklearn.model_selection import train_test_split"
   ]
  },
  {
   "cell_type": "code",
   "execution_count": 345,
   "metadata": {},
   "outputs": [],
   "source": [
    "to_drop = []\n",
    "for col in df.columns:\n",
    "    if '_woe' not in col:\n",
    "        to_drop.append(col)\n",
    "X = df.drop(to_drop, axis=1)\n",
    "y = df['target']"
   ]
  },
  {
   "cell_type": "code",
   "execution_count": 346,
   "metadata": {},
   "outputs": [],
   "source": [
    "X_train, X_test, y_train, y_test = train_test_split(X, y, stratify=y, test_size=0.25, random_state=6)"
   ]
  },
  {
   "cell_type": "code",
   "execution_count": 347,
   "metadata": {},
   "outputs": [],
   "source": [
    "def gini(y, pred):\n",
    "    return 2 * roc_auc_score(y, pred) - 1"
   ]
  },
  {
   "cell_type": "code",
   "execution_count": 348,
   "metadata": {},
   "outputs": [],
   "source": [
    "def get_metrics(model, X, y):\n",
    "    pred = model.predict_proba(X)[:,1]\n",
    "    plot_roc_curve(model, X, y)\n",
    "    plt.plot(np.arange(0,1,0.01), np.arange(0,1, 0.01))\n",
    "    plot_confusion_matrix(model, X, y)    \n",
    "    print(f'GINI: {gini(y, pred)}')\n",
    "    print(f'F : {f1_score(y, model.predict(X))}')"
   ]
  },
  {
   "cell_type": "code",
   "execution_count": 349,
   "metadata": {},
   "outputs": [
    {
     "data": {
      "text/plain": [
       "LogisticRegression(C=1.0, class_weight='balanced', dual=False,\n",
       "                   fit_intercept=True, intercept_scaling=1, l1_ratio=None,\n",
       "                   max_iter=2000, multi_class='auto', n_jobs=None, penalty='l2',\n",
       "                   random_state=None, solver='lbfgs', tol=0.0001, verbose=0,\n",
       "                   warm_start=False)"
      ]
     },
     "execution_count": 349,
     "metadata": {},
     "output_type": "execute_result"
    }
   ],
   "source": [
    "lr = LogisticRegression(max_iter=2000,  class_weight='balanced')\n",
    "lr.fit(X_train, y_train)"
   ]
  },
  {
   "cell_type": "markdown",
   "metadata": {},
   "source": [
    "Метрики на тестовой выборке при обучении на обучающей выборке:"
   ]
  },
  {
   "cell_type": "code",
   "execution_count": 350,
   "metadata": {},
   "outputs": [
    {
     "name": "stdout",
     "output_type": "stream",
     "text": [
      "GINI: 0.6343860712456078\n",
      "F : 0.09981515711645102\n"
     ]
    },
    {
     "data": {
      "image/png": "[encoded data removed]",
      "text/plain": [
       "<Figure size 432x288 with 1 Axes>"
      ]
     },
     "metadata": {
      "needs_background": "light"
     },
     "output_type": "display_data"
    },
    {
     "data": {
      "image/png": "[encoded data removed]",
      "text/plain": [
       "<Figure size 432x288 with 2 Axes>"
      ]
     },
     "metadata": {
      "needs_background": "light"
     },
     "output_type": "display_data"
    }
   ],
   "source": [
    "get_metrics(lr, X_test, y_test)"
   ]
  },
  {
   "cell_type": "markdown",
   "metadata": {},
   "source": [
    "Метрики на всей выборке при обучении на всей выборке:"
   ]
  },
  {
   "cell_type": "code",
   "execution_count": 351,
   "metadata": {},
   "outputs": [
    {
     "name": "stdout",
     "output_type": "stream",
     "text": [
      "GINI: 0.643510236224657\n",
      "F : 0.10189201661282879\n"
     ]
    },
    {
     "data": {
      "image/png": "[encoded data removed]",
      "text/plain": [
       "<Figure size 432x288 with 1 Axes>"
      ]
     },
     "metadata": {
      "needs_background": "light"
     },
     "output_type": "display_data"
    },
    {
     "data": {
      "image/png": "[encoded data removed]",
      "text/plain": [
       "<Figure size 432x288 with 2 Axes>"
      ]
     },
     "metadata": {
      "needs_background": "light"
     },
     "output_type": "display_data"
    }
   ],
   "source": [
    "lr.fit(X, y)\n",
    "get_metrics(lr, X, y)"
   ]
  },
  {
   "cell_type": "markdown",
   "metadata": {},
   "source": [
    "### Reject interference"
   ]
  },
  {
   "cell_type": "code",
   "execution_count": 352,
   "metadata": {},
   "outputs": [],
   "source": [
    "df_rej = pd.read_csv('12_reject.csv')"
   ]
  },
  {
   "cell_type": "code",
   "execution_count": 353,
   "metadata": {},
   "outputs": [
    {
     "name": "stdout",
     "output_type": "stream",
     "text": [
      "32.8 % rejected\n"
     ]
    }
   ],
   "source": [
    "print(f'{(len(df_rej) / len(df) * 100):.3} % rejected')"
   ]
  },
  {
   "cell_type": "code",
   "execution_count": 354,
   "metadata": {},
   "outputs": [],
   "source": [
    "df_rej.drop('UID', axis=1, inplace=True)"
   ]
  },
  {
   "cell_type": "code",
   "execution_count": 355,
   "metadata": {},
   "outputs": [],
   "source": [
    "df_rej['CUSTOMER_CATEGORY_'].fillna('Normal', inplace=True)"
   ]
  },
  {
   "cell_type": "code",
   "execution_count": 356,
   "metadata": {},
   "outputs": [],
   "source": [
    "df_rej = cut_df_test(df_rej, df_1)"
   ]
  },
  {
   "cell_type": "code",
   "execution_count": 357,
   "metadata": {},
   "outputs": [],
   "source": [
    "to_drop = []\n",
    "for col in df_rej.columns:\n",
    "    if '_woe' not in col:\n",
    "        to_drop.append(col)\n",
    "df_rej.drop(to_drop, axis=1, inplace=True)"
   ]
  },
  {
   "cell_type": "code",
   "execution_count": 358,
   "metadata": {},
   "outputs": [],
   "source": [
    "df_rej['prob_rej'] = lr.predict_proba(df_rej)[:,1]"
   ]
  },
  {
   "cell_type": "code",
   "execution_count": 359,
   "metadata": {},
   "outputs": [],
   "source": [
    "df['prob_acc'] = lr.predict_proba(X)[:,1]"
   ]
  },
  {
   "cell_type": "code",
   "execution_count": 360,
   "metadata": {},
   "outputs": [],
   "source": [
    "df['prob_acc_cut'] = pd.cut(df['prob_acc'], \n",
    "                            [0, 0.1, 0.2, 0.3, 0.4, 0.5, 0.6, 0.7, 0.8, 0.9, 1.1]).apply(lambda x:x.right).astype(float)"
   ]
  },
  {
   "cell_type": "code",
   "execution_count": 361,
   "metadata": {},
   "outputs": [],
   "source": [
    "df_gr = df.groupby('prob_acc_cut').agg({'target':['sum', 'count']})"
   ]
  },
  {
   "cell_type": "code",
   "execution_count": 362,
   "metadata": {},
   "outputs": [],
   "source": [
    "df_gr['perc_bad'] = df_gr['target']['sum'] / df_gr['target']['count']\n",
    "df_gr['perc_good'] = (df_gr['target']['count'] - df_gr['target']['sum'])/ df_gr['target']['count']"
   ]
  },
  {
   "cell_type": "code",
   "execution_count": 363,
   "metadata": {},
   "outputs": [],
   "source": [
    "df_rej['prob_rej_cut'] = pd.cut(df_rej['prob_rej'], \n",
    "                            [0, 0.1, 0.2, 0.3, 0.4, 0.5, 0.6, 0.7, 0.8, 0.9, 1.1]).apply(lambda x:x.right).astype(float)"
   ]
  },
  {
   "cell_type": "code",
   "execution_count": 364,
   "metadata": {},
   "outputs": [],
   "source": [
    "df_rej.sort_values(by='prob_rej_cut', inplace=True)"
   ]
  },
  {
   "cell_type": "code",
   "execution_count": 365,
   "metadata": {},
   "outputs": [],
   "source": [
    "target_rej = np.zeros(len(df_rej))"
   ]
  },
  {
   "cell_type": "code",
   "execution_count": 366,
   "metadata": {},
   "outputs": [],
   "source": [
    "np.random.seed(6)\n",
    "target_reg = np.array([])\n",
    "for perc in df_gr.index:\n",
    "    num = np.ceil(df_gr.loc[perc, 'perc_bad'][0] * df_rej.groupby('prob_rej_cut').agg(\n",
    "        {'prob_rej_cut':'count'}).loc[perc, 'prob_rej_cut']).astype(int)\n",
    "    total = (df_rej.groupby('prob_rej_cut').agg(\n",
    "        {'prob_rej_cut':'count'}).loc[perc, 'prob_rej_cut'] - num).astype(int)\n",
    "    \n",
    "    to_fill = np.append(np.ones(num), np.zeros(total))\n",
    "    np.random.shuffle(to_fill)\n",
    "    target_reg = np.append(target_reg, to_fill)"
   ]
  },
  {
   "cell_type": "code",
   "execution_count": 367,
   "metadata": {},
   "outputs": [],
   "source": [
    "df_rej['target'] = target_reg"
   ]
  },
  {
   "cell_type": "code",
   "execution_count": 368,
   "metadata": {},
   "outputs": [],
   "source": [
    "to_drop = []\n",
    "for col in df.columns:\n",
    "    if '_woe' not in col and 'target' not in col:\n",
    "        to_drop.append(col)"
   ]
  },
  {
   "cell_type": "code",
   "execution_count": 369,
   "metadata": {},
   "outputs": [
    {
     "name": "stderr",
     "output_type": "stream",
     "text": [
      "C:\\Users\\79151\\Anaconda3\\lib\\site-packages\\pandas\\core\\frame.py:7123: FutureWarning: Sorting because non-concatenation axis is not aligned. A future version\n",
      "of pandas will change to not sort by default.\n",
      "\n",
      "To accept the future behavior, pass 'sort=False'.\n",
      "\n",
      "To retain the current behavior and silence the warning, pass 'sort=True'.\n",
      "\n",
      "  sort=sort,\n"
     ]
    }
   ],
   "source": [
    "df_full = df.drop(to_drop, axis=1).append(df_rej)"
   ]
  },
  {
   "cell_type": "code",
   "execution_count": 370,
   "metadata": {},
   "outputs": [],
   "source": [
    "df_full.drop(['prob_rej', 'prob_rej_cut'], axis=1, inplace=True)"
   ]
  },
  {
   "cell_type": "code",
   "execution_count": 371,
   "metadata": {},
   "outputs": [],
   "source": [
    "X_full = df_full.drop('target', axis=1)\n",
    "y_full = df_full['target']\n",
    "X_train_full, X_test_full, y_train_full, y_test_full = train_test_split(X_full, y_full, random_state=6, stratify=y_full,\n",
    "                                                                       test_size=0.25)"
   ]
  },
  {
   "cell_type": "code",
   "execution_count": 372,
   "metadata": {},
   "outputs": [
    {
     "name": "stdout",
     "output_type": "stream",
     "text": [
      "GINI: 0.6599496447428461\n",
      "F : 0.10472686102462497\n"
     ]
    },
    {
     "data": {
      "image/png": "[encoded data removed]",
      "text/plain": [
       "<Figure size 432x288 with 1 Axes>"
      ]
     },
     "metadata": {
      "needs_background": "light"
     },
     "output_type": "display_data"
    },
    {
     "data": {
      "image/png": "[encoded data removed]",
      "text/plain": [
       "<Figure size 432x288 with 2 Axes>"
      ]
     },
     "metadata": {
      "needs_background": "light"
     },
     "output_type": "display_data"
    }
   ],
   "source": [
    "lr.fit(X_train_full, y_train_full)\n",
    "get_metrics(lr, X_test_full, y_test_full)"
   ]
  },
  {
   "cell_type": "code",
   "execution_count": 373,
   "metadata": {},
   "outputs": [],
   "source": [
    "X_train_full, X_test_full, y_train_full, y_test_full = train_test_split(X, y, random_state=6, stratify=y,\n",
    "                                                                       test_size=0.25)"
   ]
  },
  {
   "cell_type": "code",
   "execution_count": 374,
   "metadata": {},
   "outputs": [],
   "source": [
    "X_train_full = X_train_full.append(df_rej.drop(['prob_rej', 'prob_rej_cut', 'target'], axis=1).reset_index(drop=True))\n",
    "y_train_full = y_train_full.append(df_rej['target'].reset_index(drop=True))"
   ]
  },
  {
   "cell_type": "code",
   "execution_count": 375,
   "metadata": {},
   "outputs": [
    {
     "name": "stdout",
     "output_type": "stream",
     "text": [
      "GINI: 0.6355939418865582\n",
      "F : 0.10095098756400879\n"
     ]
    },
    {
     "data": {
      "image/png": "[encoded data removed]",
      "text/plain": [
       "<Figure size 432x288 with 1 Axes>"
      ]
     },
     "metadata": {
      "needs_background": "light"
     },
     "output_type": "display_data"
    },
    {
     "data": {
      "image/png": "[encoded data removed]",
      "text/plain": [
       "<Figure size 432x288 with 2 Axes>"
      ]
     },
     "metadata": {
      "needs_background": "light"
     },
     "output_type": "display_data"
    }
   ],
   "source": [
    "lr.fit(X_train_full, y_train_full)\n",
    "get_metrics(lr, X_test_full, y_test_full)"
   ]
  }
 ],
 "metadata": {
  "kernelspec": {
   "display_name": "Python 3",
   "language": "python",
   "name": "python3"
  },
  "language_info": {
   "codemirror_mode": {
    "name": "ipython",
    "version": 3
   },
   "file_extension": ".py",
   "mimetype": "text/x-python",
   "name": "python",
   "nbconvert_exporter": "python",
   "pygments_lexer": "ipython3",
   "version": "3.7.4"
  }
 },
 "nbformat": 4,
 "nbformat_minor": 2
}
